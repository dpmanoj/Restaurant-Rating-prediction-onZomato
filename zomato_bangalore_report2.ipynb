{
 "cells": [
  {
   "cell_type": "markdown",
   "metadata": {},
   "source": [
    "# Predicting Restaurant Rating Of New Restaurant on Zomato\n",
    "### Machine Learning capstone project\n",
    "\n",
    "# Project Overview\n",
    "Zomato is a restaurant search and discovery website/application which operates in many major cities spread across 24 countries. \n",
    "Zomato helps land customers over the restaurants through many search options based on restaurants location, restaurant type, cuisines they serve and helps discover better using filters and sort by options for advance searches.\n",
    "    in this project dataset for restaurants in **Bengaluru,India** is used [dataset link](https://www.kaggle.com/himanshupoddar/zomato-bangalore-restaurants)<br>\n",
    "> **The dataset contains ratings marked as \"NEW\" for 2000+ rows. These rows will be used for predicting after the model is trained and tested.**\n",
    "    \n",
    "# Problem Statement\n",
    "**Rating System of Zomato**<br>\n",
    "The restaurants on Zomato have ratings between 1-5 with an interval of .1. example 1.1,3.2,3.4. The customers gives ratings which is denoted as stars, a customer reviews/rates a restaurant by giving a score/star between 1 to 5. **The final rating is not the average** of the ratings given by the customers but the ratings of restaurants are distributed over a **normal distribution curve for a city** and can change by ratings of other restaurants.[Zomato rating system](https://www.zomato.com/blog/project-warp-fighting-bias-on-zomato) <br><br>\n",
    "<img src=\"images/rest_rating.jpg\">\n",
    "src: https://www.zomato.com/bangalore/indiranagar-restaurants <br><br>\n",
    "**Example to understand better**<br>\n",
    "For this reason the ratings may change in time based on ratings/reviews given on another restaurant. That is the ratings are relative to each other. <br>\n",
    "For example if a restaurant A gets 5 star ratings 5 times, it does not mean that the final rating will be 5. It can be 3.2, 4.5. If another restaurant B gets 3, 5 stars and 1, 4 star and gets 2 reviews will likely get higher rating than A because it got 2 positive reviews. <br><br>\n",
    "\n",
    "\n",
    "> **Problem:**<br> If a New restaurant wants to get on Zomato it will be placed on the normal curve. The normal curve is centered around 3.8,3.9 and most of the restaurants fight to be on the right side of this curve i.e on the right side of 3.8. Even if the customer rating for the resrtaurant is good the overall rating may say otherwise based on complicated Zomato rating algorithms which compares the rating/review frequency and uses NLP for reviews. \n",
    "<br><br>\n",
    " **Rating bins**\n",
    "There are 8 bins in Zomato between 1-5 with and interval of .5. Each of the rating is color coded. **This project is a classification problem, which predicts the bin, the rating of the NEW restaurant will fall into**\n",
    "<img src = \"images/labels_rating.png\">\n",
    "<br>\n",
    "**The Aim of this project** is to make a Deep Learning model which predicts the bin of the NEW restaurant will fall into. \n",
    "<img src = \"images/new.png\" width = \"200\">\n",
    "src: https://www.zomato.com/bangalore/indiranagar-restaurants\n",
    "<br>\n",
    "**Why there is a need of better rating?**<br>\n",
    "-\tZomato charges less commission for higher rating rstaurants\n",
    "-\tZomato has filter options(rating 3.5+) which displays better rated restaurants in the search\n",
    "-\tRestaurant shows on top over the other insearch\n",
    "- Attracts more footfall to the Restaurants.\n",
    "\n",
    "\n"
   ]
  },
  {
   "cell_type": "markdown",
   "metadata": {},
   "source": [
    "## Table of Contents\n",
    "<ol>\n",
    "<li><a href=\"#dataexploration\">Data Exploration</a></li>\n",
    "<li><a href=\"#visualization\">Exploring visulization</a></li>\n",
    "    <ol>\n",
    "        <li><a href=\"#bookonline\">Book table and Online order</a> </li>\n",
    "        <li><a href=\"#rating\">Visulazing Rating</a> </li>\n",
    "        <li><a href=\"#location\">Listed in Location</a> </li>\n",
    "        <li><a href=\"#resttype\">List in Restaurant Type</a> </li>\n",
    "        <li><a href=\"#cuisines\">Visualizing different Cuisines</a> </li>\n",
    "    </ol>\n",
    "<li><a href=\"#preprocessing\">Data Pre-Processing</a></li>\n",
    "    <ol>\n",
    "        <li><a href=\"#assessingcol\">Assessing columns missing</a> </li>\n",
    "        <li><a href=\"#assessingrow\">Assessing Row missing</a> </li>\n",
    "        <li><a href=\"#precol\">Preprocessing columns</a> </li>\n",
    "        <li><a href=\"#impfea\">Imputing and Feature scaling</a> </li>\n",
    "        <li><a href=\"#traintest\">Training and Testing set</a> </li>\n",
    "    </ol>\n",
    "<li><a href=\"#benchmark\">Training and Testing Benchmarck Model</a></li>\n",
    "<li><a href=\"#nn\">Training, Optimizing and Testing Neural Network Model</a></li>\n",
    "<li><a href=\"#predict\">Predicting New Restaurant Color Bin</a></li>\n",
    "<li><a href=\"#lim\">Limitation,Conclusion and Improvement</a></li>\n",
    "</ol>\n",
    "\n",
    "> After each Visualization or process there is an **Inference** section\n",
    "After Each Section There is a **Summary** section"
   ]
  },
  {
   "cell_type": "code",
   "execution_count": 1,
   "metadata": {},
   "outputs": [],
   "source": [
    "#importing all the libraries here\n",
    "#imorting numpty and pandas to handle dataframe\n",
    "import numpy as np\n",
    "import pandas as pd\n",
    "#import matplotlib to plot graphs\n",
    "import matplotlib.pyplot as plt\n",
    "\n",
    "#splting data into train and test data\n",
    "from sklearn.model_selection import train_test_split\n",
    "#importing simple imputer to deal with missing values\n",
    "from sklearn.impute import SimpleImputer\n",
    "#Used Minax Scalar for scaling values between [0,1]\n",
    "from sklearn.preprocessing import MinMaxScaler\n",
    "\n",
    "#bencahmarck model and evaluration metrics\n",
    "from sklearn.linear_model import LinearRegression\n",
    "from sklearn import metrics\n",
    "\n",
    "#Librabries for creating and training neural Networks\n",
    "import torch\n",
    "\n",
    "#helper function\n",
    "from helper import *\n",
    "\n",
    "#functions for exploratory visualizations\n",
    "import visuals as vs\n",
    "\n",
    "#functions for training,processing and predicitng\n",
    "import train as tr\n",
    "import predict as pr\n",
    "\n",
    "%matplotlib inline "
   ]
  },
  {
   "cell_type": "code",
   "execution_count": 2,
   "metadata": {},
   "outputs": [],
   "source": [
    "#copying data in csv file to dataframe\n",
    "bengaluru_res_df = pd.read_csv(\"zomato/zomato.csv\")"
   ]
  },
  {
   "cell_type": "markdown",
   "metadata": {},
   "source": [
    "<a id='dataexploration'></a>\n",
    "## 1. Exploring Data"
   ]
  },
  {
   "cell_type": "code",
   "execution_count": 3,
   "metadata": {},
   "outputs": [
    {
     "data": {
      "text/html": [
       "<div>\n",
       "<style scoped>\n",
       "    .dataframe tbody tr th:only-of-type {\n",
       "        vertical-align: middle;\n",
       "    }\n",
       "\n",
       "    .dataframe tbody tr th {\n",
       "        vertical-align: top;\n",
       "    }\n",
       "\n",
       "    .dataframe thead th {\n",
       "        text-align: right;\n",
       "    }\n",
       "</style>\n",
       "<table border=\"1\" class=\"dataframe\">\n",
       "  <thead>\n",
       "    <tr style=\"text-align: right;\">\n",
       "      <th></th>\n",
       "      <th>url</th>\n",
       "      <th>address</th>\n",
       "      <th>name</th>\n",
       "      <th>online_order</th>\n",
       "      <th>book_table</th>\n",
       "      <th>rate</th>\n",
       "      <th>votes</th>\n",
       "      <th>phone</th>\n",
       "      <th>location</th>\n",
       "      <th>rest_type</th>\n",
       "      <th>dish_liked</th>\n",
       "      <th>cuisines</th>\n",
       "      <th>approx_cost(for two people)</th>\n",
       "      <th>reviews_list</th>\n",
       "      <th>menu_item</th>\n",
       "      <th>listed_in(type)</th>\n",
       "      <th>listed_in(city)</th>\n",
       "    </tr>\n",
       "  </thead>\n",
       "  <tbody>\n",
       "    <tr>\n",
       "      <th>0</th>\n",
       "      <td>https://www.zomato.com/bangalore/jalsa-banasha...</td>\n",
       "      <td>942, 21st Main Road, 2nd Stage, Banashankari, ...</td>\n",
       "      <td>Jalsa</td>\n",
       "      <td>Yes</td>\n",
       "      <td>Yes</td>\n",
       "      <td>4.1/5</td>\n",
       "      <td>775</td>\n",
       "      <td>080 42297555\\r\\n+91 9743772233</td>\n",
       "      <td>Banashankari</td>\n",
       "      <td>Casual Dining</td>\n",
       "      <td>Pasta, Lunch Buffet, Masala Papad, Paneer Laja...</td>\n",
       "      <td>North Indian, Mughlai, Chinese</td>\n",
       "      <td>800</td>\n",
       "      <td>[('Rated 4.0', 'RATED\\n  A beautiful place to ...</td>\n",
       "      <td>[]</td>\n",
       "      <td>Buffet</td>\n",
       "      <td>Banashankari</td>\n",
       "    </tr>\n",
       "    <tr>\n",
       "      <th>1</th>\n",
       "      <td>https://www.zomato.com/bangalore/spice-elephan...</td>\n",
       "      <td>2nd Floor, 80 Feet Road, Near Big Bazaar, 6th ...</td>\n",
       "      <td>Spice Elephant</td>\n",
       "      <td>Yes</td>\n",
       "      <td>No</td>\n",
       "      <td>4.1/5</td>\n",
       "      <td>787</td>\n",
       "      <td>080 41714161</td>\n",
       "      <td>Banashankari</td>\n",
       "      <td>Casual Dining</td>\n",
       "      <td>Momos, Lunch Buffet, Chocolate Nirvana, Thai G...</td>\n",
       "      <td>Chinese, North Indian, Thai</td>\n",
       "      <td>800</td>\n",
       "      <td>[('Rated 4.0', 'RATED\\n  Had been here for din...</td>\n",
       "      <td>[]</td>\n",
       "      <td>Buffet</td>\n",
       "      <td>Banashankari</td>\n",
       "    </tr>\n",
       "  </tbody>\n",
       "</table>\n",
       "</div>"
      ],
      "text/plain": [
       "                                                 url  \\\n",
       "0  https://www.zomato.com/bangalore/jalsa-banasha...   \n",
       "1  https://www.zomato.com/bangalore/spice-elephan...   \n",
       "\n",
       "                                             address            name  \\\n",
       "0  942, 21st Main Road, 2nd Stage, Banashankari, ...           Jalsa   \n",
       "1  2nd Floor, 80 Feet Road, Near Big Bazaar, 6th ...  Spice Elephant   \n",
       "\n",
       "  online_order book_table   rate  votes                           phone  \\\n",
       "0          Yes        Yes  4.1/5    775  080 42297555\\r\\n+91 9743772233   \n",
       "1          Yes         No  4.1/5    787                    080 41714161   \n",
       "\n",
       "       location      rest_type  \\\n",
       "0  Banashankari  Casual Dining   \n",
       "1  Banashankari  Casual Dining   \n",
       "\n",
       "                                          dish_liked  \\\n",
       "0  Pasta, Lunch Buffet, Masala Papad, Paneer Laja...   \n",
       "1  Momos, Lunch Buffet, Chocolate Nirvana, Thai G...   \n",
       "\n",
       "                         cuisines approx_cost(for two people)  \\\n",
       "0  North Indian, Mughlai, Chinese                         800   \n",
       "1     Chinese, North Indian, Thai                         800   \n",
       "\n",
       "                                        reviews_list menu_item  \\\n",
       "0  [('Rated 4.0', 'RATED\\n  A beautiful place to ...        []   \n",
       "1  [('Rated 4.0', 'RATED\\n  Had been here for din...        []   \n",
       "\n",
       "  listed_in(type) listed_in(city)  \n",
       "0          Buffet    Banashankari  \n",
       "1          Buffet    Banashankari  "
      ]
     },
     "execution_count": 3,
     "metadata": {},
     "output_type": "execute_result"
    }
   ],
   "source": [
    "# displaying the first two rows\n",
    "bengaluru_res_df.head(2)"
   ]
  },
  {
   "cell_type": "code",
   "execution_count": 4,
   "metadata": {},
   "outputs": [
    {
     "data": {
      "text/plain": [
       "(51717, 17)"
      ]
     },
     "execution_count": 4,
     "metadata": {},
     "output_type": "execute_result"
    }
   ],
   "source": [
    "bengaluru_res_df.shape"
   ]
  },
  {
   "cell_type": "code",
   "execution_count": 5,
   "metadata": {},
   "outputs": [
    {
     "name": "stdout",
     "output_type": "stream",
     "text": [
      "<class 'pandas.core.frame.DataFrame'>\n",
      "RangeIndex: 51717 entries, 0 to 51716\n",
      "Data columns (total 17 columns):\n",
      "url                            51717 non-null object\n",
      "address                        51717 non-null object\n",
      "name                           51717 non-null object\n",
      "online_order                   51717 non-null object\n",
      "book_table                     51717 non-null object\n",
      "rate                           43942 non-null object\n",
      "votes                          51717 non-null int64\n",
      "phone                          50509 non-null object\n",
      "location                       51696 non-null object\n",
      "rest_type                      51490 non-null object\n",
      "dish_liked                     23639 non-null object\n",
      "cuisines                       51672 non-null object\n",
      "approx_cost(for two people)    51371 non-null object\n",
      "reviews_list                   51717 non-null object\n",
      "menu_item                      51717 non-null object\n",
      "listed_in(type)                51717 non-null object\n",
      "listed_in(city)                51717 non-null object\n",
      "dtypes: int64(1), object(16)\n",
      "memory usage: 6.7+ MB\n"
     ]
    }
   ],
   "source": [
    "bengaluru_res_df.info()"
   ]
  },
  {
   "cell_type": "code",
   "execution_count": 6,
   "metadata": {},
   "outputs": [
    {
     "data": {
      "text/plain": [
       "url                                0\n",
       "address                            0\n",
       "name                               0\n",
       "online_order                       0\n",
       "book_table                         0\n",
       "rate                            7775\n",
       "votes                              0\n",
       "phone                           1208\n",
       "location                          21\n",
       "rest_type                        227\n",
       "dish_liked                     28078\n",
       "cuisines                          45\n",
       "approx_cost(for two people)      346\n",
       "reviews_list                       0\n",
       "menu_item                          0\n",
       "listed_in(type)                    0\n",
       "listed_in(city)                    0\n",
       "dtype: int64"
      ]
     },
     "execution_count": 6,
     "metadata": {},
     "output_type": "execute_result"
    }
   ],
   "source": [
    "bengaluru_res_df.isnull().sum()"
   ]
  },
  {
   "cell_type": "code",
   "execution_count": 7,
   "metadata": {},
   "outputs": [
    {
     "data": {
      "text/plain": [
       "37700"
      ]
     },
     "execution_count": 7,
     "metadata": {},
     "output_type": "execute_result"
    }
   ],
   "source": [
    "bengaluru_res_df.isnull().sum().sum()"
   ]
  },
  {
   "cell_type": "code",
   "execution_count": 8,
   "metadata": {},
   "outputs": [
    {
     "data": {
      "text/html": [
       "<div>\n",
       "<style scoped>\n",
       "    .dataframe tbody tr th:only-of-type {\n",
       "        vertical-align: middle;\n",
       "    }\n",
       "\n",
       "    .dataframe tbody tr th {\n",
       "        vertical-align: top;\n",
       "    }\n",
       "\n",
       "    .dataframe thead th {\n",
       "        text-align: right;\n",
       "    }\n",
       "</style>\n",
       "<table border=\"1\" class=\"dataframe\">\n",
       "  <thead>\n",
       "    <tr style=\"text-align: right;\">\n",
       "      <th></th>\n",
       "      <th>votes</th>\n",
       "    </tr>\n",
       "  </thead>\n",
       "  <tbody>\n",
       "    <tr>\n",
       "      <th>count</th>\n",
       "      <td>51717.000000</td>\n",
       "    </tr>\n",
       "    <tr>\n",
       "      <th>mean</th>\n",
       "      <td>283.697527</td>\n",
       "    </tr>\n",
       "    <tr>\n",
       "      <th>std</th>\n",
       "      <td>803.838853</td>\n",
       "    </tr>\n",
       "    <tr>\n",
       "      <th>min</th>\n",
       "      <td>0.000000</td>\n",
       "    </tr>\n",
       "    <tr>\n",
       "      <th>25%</th>\n",
       "      <td>7.000000</td>\n",
       "    </tr>\n",
       "    <tr>\n",
       "      <th>50%</th>\n",
       "      <td>41.000000</td>\n",
       "    </tr>\n",
       "    <tr>\n",
       "      <th>75%</th>\n",
       "      <td>198.000000</td>\n",
       "    </tr>\n",
       "    <tr>\n",
       "      <th>max</th>\n",
       "      <td>16832.000000</td>\n",
       "    </tr>\n",
       "  </tbody>\n",
       "</table>\n",
       "</div>"
      ],
      "text/plain": [
       "              votes\n",
       "count  51717.000000\n",
       "mean     283.697527\n",
       "std      803.838853\n",
       "min        0.000000\n",
       "25%        7.000000\n",
       "50%       41.000000\n",
       "75%      198.000000\n",
       "max    16832.000000"
      ]
     },
     "execution_count": 8,
     "metadata": {},
     "output_type": "execute_result"
    }
   ],
   "source": [
    "bengaluru_res_df.describe()"
   ]
  },
  {
   "cell_type": "code",
   "execution_count": 9,
   "metadata": {},
   "outputs": [
    {
     "data": {
      "text/plain": [
       "8792"
      ]
     },
     "execution_count": 9,
     "metadata": {},
     "output_type": "execute_result"
    }
   ],
   "source": [
    "#total number of unique restaurants\n",
    "bengaluru_res_df['name'].value_counts().shape[0]"
   ]
  },
  {
   "cell_type": "code",
   "execution_count": 10,
   "metadata": {},
   "outputs": [
    {
     "data": {
      "text/plain": [
       "0"
      ]
     },
     "execution_count": 10,
     "metadata": {},
     "output_type": "execute_result"
    }
   ],
   "source": [
    "bengaluru_res_df.duplicated().sum()"
   ]
  },
  {
   "cell_type": "markdown",
   "metadata": {},
   "source": [
    "**About Data set**\n",
    "- Dataset size: 51,717 rows x 17 columns\n",
    "- All columns are of type \"object\" except for votes\n",
    "- 7775 ratings are missin in the rating column\n",
    "- 1208 phone numbers are missing in the phone column\n",
    "- 21 are mising location\n",
    "- 28,078 dished liked are missing\n",
    "- 45 cuisines are missing\n",
    "- 346 approx cost for two persons is missing\n",
    "- No duplicated row\n",
    "- Basic statistics is discussed after processing the data <a href=\"#stats\">click here for stats</a>"
   ]
  },
  {
   "cell_type": "markdown",
   "metadata": {},
   "source": [
    "**Columns details**\n",
    "1.\t**url(object)** – This is simply a string with tells the URL which is almost common for all as it is starting with Zomato.com/xyz/abc.\n",
    "2.\t**Address(object)** – Complete address of the restaurant. Contains the full address which is not required for the analysis, can be deleted.\n",
    "3.\t**Name(object)** – Name of the restaurant, The name is unique and is different languages such as Gabar(Hindi Word), Asha(Hindi word), Twist (Englih) – it will be difficult to categories 51,717 values in the ANme column. For these reasons the column can be dropped.\n",
    "4.\t**Online order(Object)** – Yes or No, useful for predicting by converting it to binary.\n",
    "5.\t**Book Table(Object)** – Restaurant provides online table booking service (yes or no), useful for predicting by converting it to binary.\n",
    "6.\t**Rate (Target)**– Overall rating of the restaurant between” 1 – 5” upto one decimal point example 4.2. “New” for new restaurants. \n",
    "7.\t**Votes(int)** – Total number of reviews/votes, not useful for predicting the target variable, needs to be dropped.\n",
    "8.\t**Phone(object)** – Phone number of the restaurant. The counts of phone numbers provided could help in predicting target.\n",
    "9.\t**Location(object)** – Neighborhood of the Restaurant in Bengaluru, important for predicting rating. One- hot encode to change it to dummies.\n",
    "10.\t**Rest_type(object)** – Type of the restaurant, important for predicting rating. One- hot encode to change it to dummies.\n",
    "11.\t**Dish_liked(object)** – Dish liked by people in the restaurant,\n",
    "12.\t**Cuisines(object)** – Cuisines types in the re restaurants. Types are comma separated\n",
    "13.\t**Approx_cost(object)** – expected cost for meal of two in Rupees, important for prediction\n",
    "14.\t **Reviews_list(object)** - list of tuples containing reviews for the restaurant, each tuple consists of two values, rating and review by the customer. Needs to be dropped for the prediction for new restaurant.\n",
    "15.\t**Menu_item(Object)** – List of menus available in restaurants. Contains more than 54% missing values, needs to be dropped. \n",
    "16.\t**Listed_in(type)** -  type of meal\n",
    "17.\t**Listed_in(city)** - contains the neighborhood in which the restaurant is listed - duplicate column can be dropped\n"
   ]
  },
  {
   "cell_type": "markdown",
   "metadata": {},
   "source": [
    "<a id='visualization'></a>\n",
    "## 2. Exploring visulization\n",
    "Visualizing columns using matplotlib"
   ]
  },
  {
   "cell_type": "markdown",
   "metadata": {},
   "source": [
    "<a id='bookonline'></a>\n",
    "### 2.1 Book table and Online order "
   ]
  },
  {
   "cell_type": "code",
   "execution_count": 11,
   "metadata": {},
   "outputs": [],
   "source": [
    "#References for visualizations used in visuals.py \n",
    "#https://stackoverflow.com/questions/22408237/named-colors-in-matplotlib\n",
    "#https://stackoverflow.com/questions/11927715/how-to-give-a-pandas-matplotlib-bar-graph-custom-colors\n",
    "#https://www.geeksforgeeks.org/append-extend-python/ \n",
    "#https://stackoverflow.com/questions/22408237/named-colors-in-matplotlib\n",
    "#https://stackoverflow.com/questions/11927715/how-to-give-a-pandas-matplotlib-bar-graph-custom-colors\n",
    "#https://matplotlib.org/3.1.1/tutorials/text/text_intro.html - \n",
    "#https://matplotlib.org/3.1.1/api/_as_gen/matplotlib.pyplot.text.html\n",
    "#https://www.geeksforgeeks.org/python-pandas-series-sort_values/\n",
    "#https://stackoverflow.com/questions/18837262/convert-python-dict-into-a-dataframe"
   ]
  },
  {
   "cell_type": "code",
   "execution_count": 12,
   "metadata": {},
   "outputs": [
    {
     "name": "stdout",
     "output_type": "stream",
     "text": [
      "REstaurants with book table options:\n",
      " Yes: 6449 \n",
      "No: 45268\n",
      "Total Number of restaurants: 51717  total Yes + No: 51717\n"
     ]
    }
   ],
   "source": [
    "#Storing uniques values of Book table in series\n",
    "series_book_table = bengaluru_res_df.groupby('book_table').count()['online_order']\n",
    "print(\"REstaurants with book table options:\\n Yes:\",series_book_table['Yes'],\"\\nNo:\", series_book_table['No'])\n",
    "print(\"Total Number of restaurants:\",bengaluru_res_df.shape[0],\" total Yes + No:\",(series_book_table['Yes']+series_book_table['No']))"
   ]
  },
  {
   "cell_type": "code",
   "execution_count": 13,
   "metadata": {},
   "outputs": [
    {
     "data": {
      "image/png": "[encoded data removed]",
      "text/plain": [
       "<Figure size 432x288 with 1 Axes>"
      ]
     },
     "metadata": {},
     "output_type": "display_data"
    }
   ],
   "source": [
    "vs.bar_booktable(bengaluru_res_df)"
   ]
  },
  {
   "cell_type": "markdown",
   "metadata": {},
   "source": [
    ">**Interpretation:**\n",
    "out of 51,717 records 87.5% of restaurants do not have options to book table online using Zomato"
   ]
  },
  {
   "cell_type": "code",
   "execution_count": 14,
   "metadata": {},
   "outputs": [
    {
     "name": "stdout",
     "output_type": "stream",
     "text": [
      "Restaurants with online order options:\n",
      " Yes: 30444 \n",
      "No: 21273\n",
      "Total Number of restaurants: 51717  total Yes + No: 51717\n"
     ]
    }
   ],
   "source": [
    "#counting the unique values and storing it in series\n",
    "series_online_order = bengaluru_res_df.groupby('online_order').count()['book_table']\n",
    "print(\"Restaurants with online order options:\\n Yes:\",series_online_order['Yes'],\"\\nNo:\", series_online_order['No'])\n",
    "print(\"Total Number of restaurants:\",bengaluru_res_df.shape[0],\" total Yes + No:\",(series_online_order['Yes']+series_online_order['No']))"
   ]
  },
  {
   "cell_type": "code",
   "execution_count": 15,
   "metadata": {},
   "outputs": [
    {
     "data": {
      "image/png": "[encoded data removed]",
      "text/plain": [
       "<Figure size 432x288 with 1 Axes>"
      ]
     },
     "metadata": {},
     "output_type": "display_data"
    }
   ],
   "source": [
    "vs.bar_onlineorder(bengaluru_res_df)"
   ]
  },
  {
   "cell_type": "markdown",
   "metadata": {},
   "source": [
    "> **Interpretation:** out of 51,717 records 41.1% of restaurants do not have options to deliver using Zomato application"
   ]
  },
  {
   "cell_type": "markdown",
   "metadata": {},
   "source": [
    "<a id='rating'></a>\n",
    "### 2.2 Rating bar plot\n",
    "\n",
    "#### 2.2.1 Ratings Between 1-5 with interval .1"
   ]
  },
  {
   "cell_type": "markdown",
   "metadata": {},
   "source": [
    "In this section I have\n",
    "> - Visualized the ratings, normal curve formded by the count of unique ratings using bar graph<br>\n",
    "> -  Visualized the color bins for the ratings of the restaurant using bar graph\n",
    "\n",
    "The ratings are in the form of string '3.5 /5' containing spaces in some and have few missing values in form of NaNs<br>\n",
    "The Ratngs are in the form:\n",
    "    - *'3.5/5'* -> rating out of 5\n",
    "    - *'-'* -> no ratings given for this restaurant\n",
    "    - *NaNs* -> missing ratings in the column"
   ]
  },
  {
   "cell_type": "code",
   "execution_count": 16,
   "metadata": {},
   "outputs": [
    {
     "data": {
      "image/png": "[encoded data removed]",
      "text/plain": [
       "<Figure size 1440x720 with 1 Axes>"
      ]
     },
     "metadata": {},
     "output_type": "display_data"
    }
   ],
   "source": [
    "vs.rating_curve(bengaluru_res_df)"
   ]
  },
  {
   "cell_type": "markdown",
   "metadata": {},
   "source": [
    "> **Interpretation:** The rating count is fitted inside a normal curve centered around 3.8 rating. .2% of ratings are not goven yet to the restauants and 5% of the restaurants are new on zomato. "
   ]
  },
  {
   "cell_type": "markdown",
   "metadata": {},
   "source": [
    "### 2.2.2 Ratings Color bins\n",
    "\n",
    "As discussed above, Zomato has 8 colored bins with dark green containing the highest top 6 ratings 4.5,4.6,4.7,4.8,4.9 and 5 and red containing the lowest rating 1,1.1,1.2,1.3,1.4... visualizing the ratios for each bin.<br> There are two more bins marked as \n",
    "- \"NEW\" for new restaurants on Zomato \n",
    "- \"-\" restaurants not rated yet on Zomato\n",
    ">**Note**: for visualization \"New\" and \"-\" bins are also considered <br>\n",
    "> **For this project, the model is trained to predict these colored bins**"
   ]
  },
  {
   "cell_type": "code",
   "execution_count": 17,
   "metadata": {},
   "outputs": [
    {
     "data": {
      "image/png": "[encoded data removed]",
      "text/plain": [
       "<Figure size 720x432 with 1 Axes>"
      ]
     },
     "metadata": {},
     "output_type": "display_data"
    }
   ],
   "source": [
    "vs.color_bins(bengaluru_res_df)"
   ]
  },
  {
   "cell_type": "markdown",
   "metadata": {},
   "source": [
    "** Ratios of the Restaurants **\n",
    "- 34.35% of the restaurants in Bengaluru have ratings between 3.5 - 3.9. \n",
    "- 21.57% of the restaurants have ratings between 4.0 - 4.4.\n",
    "- Only 2.41% of the restaurants have ratings between 4.5 - 5.\n",
    "- Only 23.98% of the restaurant falls on the right of the curve"
   ]
  },
  {
   "cell_type": "markdown",
   "metadata": {},
   "source": [
    "<a id='location'></a>\n",
    "### 2.3 Location and Location listed in city \n",
    "\n",
    "#### 2.3.1 Listed in 30 Location\n",
    "\n",
    "Zomato displays 30 popular localities in Bengaluru. The 30 results changes with the selected city. <br> Top 30 localities in Bengaluru on 17th - jun- 2019 is \n",
    "<img src = \"images/zomato_localities.png\">\n",
    "src: https://www.zomato.com/bangalore"
   ]
  },
  {
   "cell_type": "markdown",
   "metadata": {},
   "source": [
    "The 30 locations are stored in \"listed_in(city)\" columns. the visualization will show the locations and the counts of restaurants present there.<br>\n",
    ">Note: The visualization may differ from the image above as the data considered is from another date."
   ]
  },
  {
   "cell_type": "code",
   "execution_count": 18,
   "metadata": {},
   "outputs": [
    {
     "data": {
      "image/png": "[encoded data removed]",
      "text/plain": [
       "<Figure size 504x360 with 1 Axes>"
      ]
     },
     "metadata": {},
     "output_type": "display_data"
    }
   ],
   "source": [
    "vs.listed_in_city(bengaluru_res_df)"
   ]
  },
  {
   "cell_type": "markdown",
   "metadata": {},
   "source": [
    "#### 2.3.2 Locations of the restaurant i.e closest location/area from the restaurant\n",
    "The 30 locations have restaurants within 10-12 kms. There are about 93 locations which gives restaurant results closer than the listed_in_city locations."
   ]
  },
  {
   "cell_type": "code",
   "execution_count": 19,
   "metadata": {},
   "outputs": [
    {
     "name": "stdout",
     "output_type": "stream",
     "text": [
      "Total Locations: 93 \n",
      "Locations: Index(['BTM', 'HSR', 'Koramangala 5th Block', 'JP Nagar', 'Whitefield',\n",
      "       'Indiranagar', 'Jayanagar', 'Marathahalli', 'Bannerghatta Road',\n",
      "       'Bellandur', 'Electronic City', 'Koramangala 1st Block', 'Brigade Road',\n",
      "       'Koramangala 7th Block', 'Koramangala 6th Block', 'Sarjapur Road',\n",
      "       'Ulsoor', 'Koramangala 4th Block', 'MG Road', 'Banashankari',\n",
      "       'Kalyan Nagar', 'Richmond Road', 'Frazer Town', 'Malleshwaram',\n",
      "       'Basavanagudi', 'Residency Road', 'Banaswadi', 'Brookefield',\n",
      "       'New BEL Road', 'Kammanahalli', 'Rajajinagar', 'Church Street',\n",
      "       'Lavelle Road', 'Shanti Nagar', 'Shivajinagar', 'Domlur',\n",
      "       'Cunningham Road', 'Old Airport Road', 'Ejipura', 'Commercial Street',\n",
      "       'St. Marks Road', 'Koramangala 8th Block', 'Vasanth Nagar',\n",
      "       'Jeevan Bhima Nagar', 'Wilson Garden', 'Bommanahalli',\n",
      "       'Koramangala 3rd Block', 'Kumaraswamy Layout', 'Thippasandra',\n",
      "       'Basaveshwara Nagar', 'Nagawara', 'Seshadripuram', 'Hennur', 'Majestic',\n",
      "       'HBR Layout', 'Infantry Road', 'Race Course Road', 'City Market',\n",
      "       'Yeshwantpur', 'Varthur Main Road, Whitefield',\n",
      "       'ITPL Main Road, Whitefield', 'South Bangalore',\n",
      "       'Koramangala 2nd Block', 'Hosur Road', 'Kaggadasapura',\n",
      "       'CV Raman Nagar', 'Vijay Nagar', 'RT Nagar', 'Sanjay Nagar',\n",
      "       'Sadashiv Nagar', 'Sahakara Nagar', 'Koramangala', 'East Bangalore',\n",
      "       'Jalahalli', 'Magadi Road', 'Rammurthy Nagar', 'Langford Town',\n",
      "       'Sankey Road', 'Old Madras Road', 'Mysore Road', 'Kanakapura Road',\n",
      "       'KR Puram', 'Uttarahalli', 'Hebbal', 'North Bangalore', 'Nagarbhavi',\n",
      "       'Kengeri', 'Central Bangalore', 'West Bangalore', 'Yelahanka', 'Jakkur',\n",
      "       'Rajarajeshwari Nagar', 'Peenya'],\n",
      "      dtype='object')\n",
      "\n",
      " Top 50 Locations with restaurant Counts\n"
     ]
    },
    {
     "data": {
      "image/png": "[encoded data removed]",
      "text/plain": [
       "<Figure size 864x360 with 1 Axes>"
      ]
     },
     "metadata": {},
     "output_type": "display_data"
    }
   ],
   "source": [
    "vs.location(bengaluru_res_df)"
   ]
  },
  {
   "cell_type": "markdown",
   "metadata": {},
   "source": [
    "<a id='resttype'></a>\n",
    "### 2.4 restaurant type and listed in type"
   ]
  },
  {
   "cell_type": "markdown",
   "metadata": {},
   "source": [
    "#### 2.4.1 Resraurant Listed In\n",
    "For quick searhces Zomato has categorized all the Restaurant types into 7 main categories. The ratios of all the  51,717  restaurants and there types is shown below:\n",
    "<img src = \"images/rest_type.png\" width = \"200\">\n",
    "src: https://www.zomato.com/bangalore/indiranagar-restaurants"
   ]
  },
  {
   "cell_type": "code",
   "execution_count": 20,
   "metadata": {},
   "outputs": [
    {
     "data": {
      "image/png": "[encoded data removed]",
      "text/plain": [
       "<Figure size 576x360 with 1 Axes>"
      ]
     },
     "metadata": {},
     "output_type": "display_data"
    }
   ],
   "source": [
    "vs.rest_type_listedin(bengaluru_res_df)"
   ]
  },
  {
   "cell_type": "markdown",
   "metadata": {},
   "source": [
    "#### 2.4.2 Restaurant Types as mentioned by the Restaurants\n",
    "Restaurants can mention two types which are comma separated. From the code block below, the 3rd row, the types are Cafe and Casual Dining. this column has mixed nominal categorical values which are comma separated. "
   ]
  },
  {
   "cell_type": "code",
   "execution_count": 21,
   "metadata": {},
   "outputs": [
    {
     "data": {
      "text/plain": [
       "'Cafe, Casual Dining'"
      ]
     },
     "execution_count": 21,
     "metadata": {},
     "output_type": "execute_result"
    }
   ],
   "source": [
    "bengaluru_res_df.loc[2]['rest_type']"
   ]
  },
  {
   "cell_type": "markdown",
   "metadata": {},
   "source": [
    "- '1' example 'Cafe'\n",
    "- '2' example 'Cafe,casual'\n",
    "- '0' examle 'nan'"
   ]
  },
  {
   "cell_type": "code",
   "execution_count": 22,
   "metadata": {},
   "outputs": [
    {
     "name": "stdout",
     "output_type": "stream",
     "text": [
      "types counts: restaurant counts {1: 43763, 2: 7727, 3: 0, 0: 227}\n"
     ]
    },
    {
     "data": {
      "image/png": "[encoded data removed]",
      "text/plain": [
       "<Figure size 432x288 with 1 Axes>"
      ]
     },
     "metadata": {},
     "output_type": "display_data"
    }
   ],
   "source": [
    "unique_rest = vs.rest_mixed_type(bengaluru_res_df)"
   ]
  },
  {
   "cell_type": "code",
   "execution_count": 23,
   "metadata": {},
   "outputs": [
    {
     "name": "stdout",
     "output_type": "stream",
     "text": [
      "Total Number ofUnique Restaurant types 25\n",
      "Unique Restaurant Types:\n"
     ]
    },
    {
     "data": {
      "text/plain": [
       "dict_keys(['casualdining', 'cafe', 'quickbites', 'delivery', 'mess', 'dessertparlor', 'bakery', 'pub', 'takeaway', 'finedining', 'beverageshop', 'sweetshop', 'bar', 'confectionery', 'kiosk', 'foodtruck', 'microbrewery', 'lounge', 'foodcourt', 'dhaba', 'club', 'iranicafee', 'bhojanalya', 'popup', 'meatshop'])"
      ]
     },
     "execution_count": 23,
     "metadata": {},
     "output_type": "execute_result"
    }
   ],
   "source": [
    "print(\"Total Number ofUnique Restaurant types\",len(unique_rest))\n",
    "print(\"Unique Restaurant Types:\")\n",
    "unique_rest.keys()"
   ]
  },
  {
   "cell_type": "code",
   "execution_count": 24,
   "metadata": {},
   "outputs": [
    {
     "data": {
      "image/png": "[encoded data removed]",
      "text/plain": [
       "<Figure size 576x432 with 1 Axes>"
      ]
     },
     "metadata": {},
     "output_type": "display_data"
    }
   ],
   "source": [
    "vs.unique_rest_types(bengaluru_res_df, unique_rest)"
   ]
  },
  {
   "cell_type": "markdown",
   "metadata": {},
   "source": [
    ">**Inference** \n",
    "More than 20,000 restaurants are of quick bites type,<br>\n",
    "followed by casual dinining places, followed by cafe and delivery types\n"
   ]
  },
  {
   "cell_type": "markdown",
   "metadata": {},
   "source": [
    "<a id='cuisines'></a>\n",
    "### 2.5 Cuisines"
   ]
  },
  {
   "cell_type": "markdown",
   "metadata": {},
   "source": [
    "Cuisines is a mixed categorical column eg. 'Cafe, Mexican, Italian'. A restaurant can have upto 8 cuisines mentioned, which are comma separated.\n",
    "Some restaurants have more than one cusines. <br>Number of cuisines: restaurant counts.  "
   ]
  },
  {
   "cell_type": "code",
   "execution_count": 25,
   "metadata": {},
   "outputs": [
    {
     "data": {
      "text/plain": [
       "'Cafe, Mexican, Italian'"
      ]
     },
     "execution_count": 25,
     "metadata": {},
     "output_type": "execute_result"
    }
   ],
   "source": [
    "bengaluru_res_df.loc[2]['cuisines']"
   ]
  },
  {
   "cell_type": "markdown",
   "metadata": {},
   "source": [
    "The graph below shows the count of restaurants with 1 or more cuisines"
   ]
  },
  {
   "cell_type": "code",
   "execution_count": 26,
   "metadata": {},
   "outputs": [
    {
     "data": {
      "image/png": "[encoded data removed]",
      "text/plain": [
       "<Figure size 432x288 with 1 Axes>"
      ]
     },
     "metadata": {},
     "output_type": "display_data"
    }
   ],
   "source": [
    "unique_cuisines = vs.unique_cuisines(bengaluru_res_df)"
   ]
  },
  {
   "cell_type": "code",
   "execution_count": 27,
   "metadata": {},
   "outputs": [
    {
     "name": "stdout",
     "output_type": "stream",
     "text": [
      "Total Number of Unique cuisines: 107\n"
     ]
    },
    {
     "data": {
      "image/png": "[encoded data removed]",
      "text/plain": [
       "<Figure size 288x576 with 1 Axes>"
      ]
     },
     "metadata": {},
     "output_type": "display_data"
    }
   ],
   "source": [
    "vs.unique_cuisines_top30(bengaluru_res_df,unique_cuisines)"
   ]
  },
  {
   "cell_type": "markdown",
   "metadata": {},
   "source": [
    "**Inference**\n",
    "There are more than 20,000 restaurants which servies North Indian, which makes it the top served cusine in Bengaluru, followed by chinese and southIndian Food."
   ]
  },
  {
   "cell_type": "code",
   "execution_count": 28,
   "metadata": {},
   "outputs": [
    {
     "data": {
      "image/png": "[encoded data removed]",
      "text/plain": [
       "<Figure size 288x576 with 1 Axes>"
      ]
     },
     "metadata": {},
     "output_type": "display_data"
    }
   ],
   "source": [
    "vs.unique_cuisines_lowest30(bengaluru_res_df,unique_cuisines)"
   ]
  },
  {
   "cell_type": "markdown",
   "metadata": {},
   "source": [
    "**Inference:** Malwani, Panasian, hotdogs,sindhi, australian and few more cusines are the least served cuisines with only 2-10 places serving them.  "
   ]
  },
  {
   "cell_type": "markdown",
   "metadata": {},
   "source": [
    "**Summary**\n",
    "- 12.5% of restaurants out of 51,717 have book table options  and  58.9% have order online option,\n",
    "- Ratings are distributed on normal curve centered around 3.8-3.9.  \n",
    "- Approximately 24% of restaurants have ratings between 4-5. That is only 24% of them are on the right side of the normal curve\n",
    "- There are 30 listed locations in Bengaluru for quick searches of restaurants, BTM containing the most number of Restaurants\n",
    "- There are 7 listed restauranted types by Zomato for quick searches, DElivery being on top.\n",
    "- There are 25 unique Restaurant types as listed by the restaurants themsevles. Some have mentioned two types. There are more number of Quickbites and casual dinings types of restaurants in Bengaluru.\n",
    "- There are 107 unique cuisines served. Each restaurant serves minimum of 1 cuisine and maximum of 8. NorthIndian, chinease, southIndian and fastfood is the most popular. Malwani, Panasian, hotdogs,sindhi, australian and few more cusines are the least served cuisines with only 2-10 places serving them."
   ]
  },
  {
   "cell_type": "markdown",
   "metadata": {},
   "source": [
    "<a id='preprocessing'></a>\n",
    "## 3. Data Pre-Processing"
   ]
  },
  {
   "cell_type": "markdown",
   "metadata": {},
   "source": [
    "<a id='assessingcol'></a>\n",
    "### 3.1 Assessing columns\n",
    "- 3.1.1 Renaming columns - columns have spaces and few have charcters (,), renaming these columns with lower underscore separated columns\n",
    "- 3.1.2 Assessing Columns - replacing empty lists '[]' and nans\n",
    "- 3.1.3 Droping unwated columns\n",
    "\n",
    "#### 3.1.1 Renaming columns"
   ]
  },
  {
   "cell_type": "markdown",
   "metadata": {},
   "source": [
    "Renaming columns because of bad column name \n",
    "- approx_cost(for two people) to cost_for_two\n",
    "- listed_in(type) to listed_in_type\n",
    "- listed_in(city) to listed_in_city"
   ]
  },
  {
   "cell_type": "code",
   "execution_count": 29,
   "metadata": {},
   "outputs": [],
   "source": [
    "bengaluru_res_df = bengaluru_res_df.rename(columns={\"approx_cost(for two people)\": \"cost_for_two\", \"listed_in(type)\": \"listed_in_type\",\"listed_in(city)\":\"listed_in_city\"})"
   ]
  },
  {
   "cell_type": "markdown",
   "metadata": {},
   "source": [
    "#### 3.1.2 Assessing colunmns"
   ]
  },
  {
   "cell_type": "markdown",
   "metadata": {},
   "source": [
    "Converting menu_item empty list '[]' to NaN"
   ]
  },
  {
   "cell_type": "code",
   "execution_count": 30,
   "metadata": {},
   "outputs": [
    {
     "name": "stdout",
     "output_type": "stream",
     "text": [
      "[]\n"
     ]
    }
   ],
   "source": [
    "print(bengaluru_res_df[\"menu_item\"].unique()[0])"
   ]
  },
  {
   "cell_type": "code",
   "execution_count": 31,
   "metadata": {},
   "outputs": [],
   "source": [
    "bengaluru_res_df.replace(['[]'],np.nan,inplace=True)"
   ]
  },
  {
   "cell_type": "code",
   "execution_count": 32,
   "metadata": {},
   "outputs": [
    {
     "data": {
      "image/png": "[encoded data removed]",
      "text/plain": [
       "<Figure size 1440x288 with 1 Axes>"
      ]
     },
     "metadata": {},
     "output_type": "display_data"
    }
   ],
   "source": [
    "vs.column_nan_ratios(bengaluru_res_df)"
   ]
  },
  {
   "cell_type": "markdown",
   "metadata": {},
   "source": [
    "**Inference**\n",
    "- More than 75% of menu_items are missing\n",
    "- More than 50% of Dish_liked is missing\n",
    "- close to 15% of ratings are missing\n",
    "- 15% of reviews are missing\n",
    "- less tahn 5% of phone numbers, cost for two and restaurant types are missing"
   ]
  },
  {
   "cell_type": "markdown",
   "metadata": {},
   "source": [
    "#### 3.1.3 Dropping columns "
   ]
  },
  {
   "cell_type": "markdown",
   "metadata": {},
   "source": [
    "URL, Address, name\n",
    "Columns - URL, Address and name needs to be dropped\n",
    " - The URL\n",
    " - Name - most of the names have their short address with their names. The number of words can not be used to analyse the sdata\n",
    " - Address - The locality and city in Bengalure is mentioned in another column.\n",
    " - Votes - The new restaurants will not have any prior vote counts \n",
    " - dish_liked - More than 50% of the data is missing, hence can not be used for nanylysis and machine learning\n",
    " - menu_item - More than 75% of data is not provided, This column can not be used for analysis or prediction\n",
    " - review_list - The new restautrant won't have a review list as it is a new restaurant on Zomato"
   ]
  },
  {
   "cell_type": "code",
   "execution_count": 33,
   "metadata": {},
   "outputs": [],
   "source": [
    "bengaluru_res_df.drop(columns=['url', 'address','name','votes','menu_item','dish_liked','reviews_list'],inplace = True, errors ='ignore')"
   ]
  },
  {
   "cell_type": "code",
   "execution_count": 34,
   "metadata": {},
   "outputs": [
    {
     "data": {
      "text/html": [
       "<div>\n",
       "<style scoped>\n",
       "    .dataframe tbody tr th:only-of-type {\n",
       "        vertical-align: middle;\n",
       "    }\n",
       "\n",
       "    .dataframe tbody tr th {\n",
       "        vertical-align: top;\n",
       "    }\n",
       "\n",
       "    .dataframe thead th {\n",
       "        text-align: right;\n",
       "    }\n",
       "</style>\n",
       "<table border=\"1\" class=\"dataframe\">\n",
       "  <thead>\n",
       "    <tr style=\"text-align: right;\">\n",
       "      <th></th>\n",
       "      <th>online_order</th>\n",
       "      <th>book_table</th>\n",
       "      <th>rate</th>\n",
       "      <th>phone</th>\n",
       "      <th>location</th>\n",
       "      <th>rest_type</th>\n",
       "      <th>cuisines</th>\n",
       "      <th>cost_for_two</th>\n",
       "      <th>listed_in_type</th>\n",
       "      <th>listed_in_city</th>\n",
       "    </tr>\n",
       "  </thead>\n",
       "  <tbody>\n",
       "    <tr>\n",
       "      <th>0</th>\n",
       "      <td>Yes</td>\n",
       "      <td>Yes</td>\n",
       "      <td>4.1/5</td>\n",
       "      <td>080 42297555\\r\\n+91 9743772233</td>\n",
       "      <td>Banashankari</td>\n",
       "      <td>Casual Dining</td>\n",
       "      <td>North Indian, Mughlai, Chinese</td>\n",
       "      <td>800</td>\n",
       "      <td>Buffet</td>\n",
       "      <td>Banashankari</td>\n",
       "    </tr>\n",
       "    <tr>\n",
       "      <th>1</th>\n",
       "      <td>Yes</td>\n",
       "      <td>No</td>\n",
       "      <td>4.1/5</td>\n",
       "      <td>080 41714161</td>\n",
       "      <td>Banashankari</td>\n",
       "      <td>Casual Dining</td>\n",
       "      <td>Chinese, North Indian, Thai</td>\n",
       "      <td>800</td>\n",
       "      <td>Buffet</td>\n",
       "      <td>Banashankari</td>\n",
       "    </tr>\n",
       "  </tbody>\n",
       "</table>\n",
       "</div>"
      ],
      "text/plain": [
       "  online_order book_table   rate                           phone  \\\n",
       "0          Yes        Yes  4.1/5  080 42297555\\r\\n+91 9743772233   \n",
       "1          Yes         No  4.1/5                    080 41714161   \n",
       "\n",
       "       location      rest_type                        cuisines cost_for_two  \\\n",
       "0  Banashankari  Casual Dining  North Indian, Mughlai, Chinese          800   \n",
       "1  Banashankari  Casual Dining     Chinese, North Indian, Thai          800   \n",
       "\n",
       "  listed_in_type listed_in_city  \n",
       "0         Buffet   Banashankari  \n",
       "1         Buffet   Banashankari  "
      ]
     },
     "execution_count": 34,
     "metadata": {},
     "output_type": "execute_result"
    }
   ],
   "source": [
    "bengaluru_res_df.head(2)"
   ]
  },
  {
   "cell_type": "markdown",
   "metadata": {},
   "source": [
    "Missing values after Dropping unwanted columns"
   ]
  },
  {
   "cell_type": "code",
   "execution_count": 35,
   "metadata": {},
   "outputs": [
    {
     "data": {
      "image/png": "[encoded data removed]",
      "text/plain": [
       "<Figure size 1440x288 with 1 Axes>"
      ]
     },
     "metadata": {},
     "output_type": "display_data"
    }
   ],
   "source": [
    "vs.column_nan_ratios(bengaluru_res_df)"
   ]
  },
  {
   "cell_type": "markdown",
   "metadata": {},
   "source": [
    "<a id='assessingrow'></a>\n",
    "### 3.2 Assessing Rows\n"
   ]
  },
  {
   "cell_type": "markdown",
   "metadata": {},
   "source": [
    "- 3.2.1 Assessing target column\n",
    "- 3.2.2 Assessing phone column¶\n",
    "- 3.2.3 threshold for missing in rows\n",
    "\n",
    "#### 3.2.1 Assessing target column"
   ]
  },
  {
   "cell_type": "code",
   "execution_count": 36,
   "metadata": {},
   "outputs": [
    {
     "data": {
      "text/plain": [
       "15.033741322969234"
      ]
     },
     "execution_count": 36,
     "metadata": {},
     "output_type": "execute_result"
    }
   ],
   "source": [
    "(bengaluru_res_df['rate'].isnull().sum()/bengaluru_res_df['rate'].shape[0])*100"
   ]
  },
  {
   "cell_type": "code",
   "execution_count": 37,
   "metadata": {},
   "outputs": [
    {
     "data": {
      "text/plain": [
       "(2208, 10)"
      ]
     },
     "execution_count": 37,
     "metadata": {},
     "output_type": "execute_result"
    }
   ],
   "source": [
    "bengaluru_res_df[bengaluru_res_df['rate'] == 'NEW'].shape"
   ]
  },
  {
   "cell_type": "markdown",
   "metadata": {},
   "source": [
    ">15 percent of target values are missing, droping Rows with missing ratings as these rows cannot be used to train the model.<br>\n",
    "**2208 restaurants are listed as NEW on omato and is stored in \"bengaluru_res_df_new\"** for prediction after training the model."
   ]
  },
  {
   "cell_type": "code",
   "execution_count": 38,
   "metadata": {},
   "outputs": [],
   "source": [
    "bengaluru_res_df.dropna(subset=['rate'], inplace = True)"
   ]
  },
  {
   "cell_type": "code",
   "execution_count": 39,
   "metadata": {},
   "outputs": [],
   "source": [
    "bengaluru_res_df.drop(bengaluru_res_df[bengaluru_res_df.rate == '-'].index, axis=0, inplace=True)"
   ]
  },
  {
   "cell_type": "code",
   "execution_count": 40,
   "metadata": {},
   "outputs": [],
   "source": [
    "bengaluru_res_df_new = bengaluru_res_df[bengaluru_res_df['rate'] == 'NEW']\n",
    "bengaluru_res_df.drop(bengaluru_res_df[bengaluru_res_df.rate == 'NEW'].index, axis=0, inplace=True)"
   ]
  },
  {
   "cell_type": "code",
   "execution_count": 41,
   "metadata": {},
   "outputs": [
    {
     "data": {
      "image/png": "[encoded data removed]",
      "text/plain": [
       "<Figure size 1440x288 with 1 Axes>"
      ]
     },
     "metadata": {},
     "output_type": "display_data"
    }
   ],
   "source": [
    "vs.column_nan_ratios(bengaluru_res_df)"
   ]
  },
  {
   "cell_type": "markdown",
   "metadata": {},
   "source": [
    "The Rate column has zero missing values now"
   ]
  },
  {
   "cell_type": "markdown",
   "metadata": {},
   "source": [
    "#### 3.2.2 Assessing phone column\n",
    "More than 2% of percent of phone number is missing for this project I am **assuming the missing phone numbers as no phone numbers** provided and **replacing NaN values with 0**"
   ]
  },
  {
   "cell_type": "code",
   "execution_count": 42,
   "metadata": {},
   "outputs": [],
   "source": [
    "bengaluru_res_df['phone'].fillna(0, inplace = True)"
   ]
  },
  {
   "cell_type": "code",
   "execution_count": 43,
   "metadata": {},
   "outputs": [
    {
     "data": {
      "image/png": "[encoded data removed]",
      "text/plain": [
       "<Figure size 1440x288 with 1 Axes>"
      ]
     },
     "metadata": {},
     "output_type": "display_data"
    }
   ],
   "source": [
    "vs.column_nan_ratios(bengaluru_res_df)"
   ]
  },
  {
   "cell_type": "markdown",
   "metadata": {},
   "source": [
    "#### 3.2.3 threshold for missing in rows\n",
    "\n",
    "For this project I am dropping rows with more than 1 missing values"
   ]
  },
  {
   "cell_type": "code",
   "execution_count": 44,
   "metadata": {},
   "outputs": [],
   "source": [
    "threshold = 1\n",
    "ls_threshold = bengaluru_res_df.loc[((bengaluru_res_df.isnull().sum(axis = 1)) <= threshold) & ((bengaluru_res_df.isnull().sum(axis = 1)) != 0) ]\n",
    "#Rows count for NaNs count more than threshold\n",
    "gr_threshold = bengaluru_res_df.loc[(bengaluru_res_df.isnull().sum(axis = 1)) > threshold]"
   ]
  },
  {
   "cell_type": "code",
   "execution_count": 45,
   "metadata": {},
   "outputs": [
    {
     "name": "stdout",
     "output_type": "stream",
     "text": [
      "Number of Restaurants before dropping rows having missing valuemore than 1: 41665\n",
      "397\n"
     ]
    },
    {
     "data": {
      "text/plain": [
       "5"
      ]
     },
     "execution_count": 45,
     "metadata": {},
     "output_type": "execute_result"
    }
   ],
   "source": [
    "print(\"Number of Restaurants before dropping rows having missing valuemore than 1:\",bengaluru_res_df.shape[0])\n",
    "print(ls_threshold.shape[0])\n",
    "gr_threshold.shape[0]\n"
   ]
  },
  {
   "cell_type": "code",
   "execution_count": 46,
   "metadata": {},
   "outputs": [
    {
     "name": "stdout",
     "output_type": "stream",
     "text": [
      "Number of Restaurants after dropping rows having missing valuemore than 1: 41660\n"
     ]
    }
   ],
   "source": [
    "bengaluru_res_df.dropna(thresh = len(bengaluru_res_df.columns)-threshold,inplace = True)\n",
    "print(\"Number of Restaurants after dropping rows having missing valuemore than 1:\",bengaluru_res_df.shape[0])"
   ]
  },
  {
   "cell_type": "code",
   "execution_count": 47,
   "metadata": {},
   "outputs": [
    {
     "data": {
      "image/png": "[encoded data removed]",
      "text/plain": [
       "<Figure size 1440x288 with 1 Axes>"
      ]
     },
     "metadata": {},
     "output_type": "display_data"
    }
   ],
   "source": [
    "vs.column_nan_ratios(bengaluru_res_df)"
   ]
  },
  {
   "cell_type": "markdown",
   "metadata": {},
   "source": [
    "<a id='precol'></a>\n",
    "### 3.3 Reencoding columns\n",
    "\n",
    "In this section the columns are preprossed from string values to integer/binary values. All the columns are of object type and needs to be converted. the remaining 10 columns are:\n",
    "-  non numerical binary categorical\n",
    "- Numerical data in form of string\n",
    "- nominal categorical data\n",
    "- mixed nominal categorical data"
   ]
  },
  {
   "cell_type": "code",
   "execution_count": 48,
   "metadata": {},
   "outputs": [
    {
     "name": "stdout",
     "output_type": "stream",
     "text": [
      "<class 'pandas.core.frame.DataFrame'>\n",
      "Int64Index: 41660 entries, 0 to 51716\n",
      "Data columns (total 10 columns):\n",
      "online_order      41660 non-null object\n",
      "book_table        41660 non-null object\n",
      "rate              41660 non-null object\n",
      "phone             41660 non-null object\n",
      "location          41660 non-null object\n",
      "rest_type         41513 non-null object\n",
      "cuisines          41652 non-null object\n",
      "cost_for_two      41418 non-null object\n",
      "listed_in_type    41660 non-null object\n",
      "listed_in_city    41660 non-null object\n",
      "dtypes: object(10)\n",
      "memory usage: 3.5+ MB\n"
     ]
    }
   ],
   "source": [
    "bengaluru_res_df.info()"
   ]
  },
  {
   "cell_type": "markdown",
   "metadata": {},
   "source": [
    "**About Columns:**\n",
    "1. Non Numerical Binary columns,\n",
    "    - `online_order` - yes or no for oline order booking\n",
    "    - `book_table` - yes or no for table booking\n",
    "\n",
    "2. Numerical,float\n",
    "    - `Rate` - 1,1.1,1.2,....,4.9,5\n",
    "    - `phone` \n",
    "        - 0 for no phone numbers\n",
    "        - 1 for one phonr number provided\n",
    "        - 2 for two phone number provided\n",
    "    - `cost_for_two` - Approx cost for two in the restaurants\n",
    "\n",
    "> **Note:** For this project I am counting the number of phone numbers provided on Zomato\n",
    "\n",
    "3. Multi level categorical columns\n",
    "    - `location`  - nearest location of the restaurant in the city eg. Marathahalli, Shivajinagar - 93 unique names    \n",
    "    - `listed_in_city` - part of the city in Bengaluru eg Church Street, BTM - 30 unique names\n",
    "    - `listed_in_type` - Type of the restaurant on zomato - 7 unqiue types\n",
    " \n",
    "4. Mixed categorical columns\n",
    "    - `rest_type` - restaurant type as mentioned by the restaurant - few have two types\n",
    "    - `cuisines` - cuisines type as menstioned by the restaurant - restaurant may have cuisines type between 1-8.\n",
    "\n",
    "\n",
    "\n"
   ]
  },
  {
   "cell_type": "markdown",
   "metadata": {},
   "source": [
    "#### 3.3.1 Non Numerical Binary column to dummy variables\n",
    "\n",
    "Created dummy variables for both the columns which gave 4 columns with binary values. Few restaurants types don’t have tables example few quick bites, cafes don’t really need booking tables hence did not binaries the columns to 1 for yes and 0 for No. "
   ]
  },
  {
   "cell_type": "code",
   "execution_count": 49,
   "metadata": {},
   "outputs": [
    {
     "name": "stdout",
     "output_type": "stream",
     "text": [
      "Columns count: 10\n"
     ]
    }
   ],
   "source": [
    "print(\"Columns count:\",len(bengaluru_res_df.columns))"
   ]
  },
  {
   "cell_type": "code",
   "execution_count": 50,
   "metadata": {},
   "outputs": [],
   "source": [
    "#yes_no_1_0 = {'Yes':1,'No':0}\n",
    "#bengaluru_res_df['online_order'] = bengaluru_res_df.apply(lambda x: yes_no_1_0[x.online_order], axis=1)\n",
    "bengaluru_res_df = pd.get_dummies(bengaluru_res_df, columns=['online_order'])"
   ]
  },
  {
   "cell_type": "code",
   "execution_count": 51,
   "metadata": {},
   "outputs": [],
   "source": [
    "#bengaluru_res_df['book_table'] = bengaluru_res_df.apply(lambda x: yes_no_1_0[x.book_table], axis=1)\n",
    "bengaluru_res_df = pd.get_dummies(bengaluru_res_df, columns=['book_table'])"
   ]
  },
  {
   "cell_type": "code",
   "execution_count": 52,
   "metadata": {},
   "outputs": [],
   "source": [
    "#converting the new columns to lower case\n",
    "bengaluru_res_df.columns = [x.lower() for x in bengaluru_res_df.columns]"
   ]
  },
  {
   "cell_type": "code",
   "execution_count": 53,
   "metadata": {},
   "outputs": [
    {
     "data": {
      "text/plain": [
       "Index(['rate', 'phone', 'location', 'rest_type', 'cuisines', 'cost_for_two',\n",
       "       'listed_in_type', 'listed_in_city', 'online_order_no',\n",
       "       'online_order_yes', 'book_table_no', 'book_table_yes'],\n",
       "      dtype='object')"
      ]
     },
     "execution_count": 53,
     "metadata": {},
     "output_type": "execute_result"
    }
   ],
   "source": [
    "#Displaying columns after a dummy columns were created\n",
    "bengaluru_res_df.columns"
   ]
  },
  {
   "cell_type": "code",
   "execution_count": 54,
   "metadata": {},
   "outputs": [
    {
     "name": "stdout",
     "output_type": "stream",
     "text": [
      "Columns count: 12\n"
     ]
    }
   ],
   "source": [
    "print(\"Columns count:\",len(bengaluru_res_df.columns))"
   ]
  },
  {
   "cell_type": "markdown",
   "metadata": {},
   "source": [
    "#### 3.3.2 Numerical,float\n",
    "\n",
    "- Ratings are given in the form of a string “1.5 /5”. A function is defined in helper.py which removes spaces separates rates where“/”  and returns 1.5 in form of float.\n",
    "- Phones are in the form of str “+91 9865745477\\n\\r 080 67577578” which are either 8 digit for landline or 10 digits for mobile.\n",
    "- Cost for two is given in string with commas “1,700”. A function on the column removes comma and returns the integer value example “1,700” to 1700. returns numpy nan for misisng value."
   ]
  },
  {
   "cell_type": "code",
   "execution_count": 55,
   "metadata": {},
   "outputs": [
    {
     "data": {
      "text/plain": [
       "'3.8/5'"
      ]
     },
     "execution_count": 55,
     "metadata": {},
     "output_type": "execute_result"
    }
   ],
   "source": [
    "bengaluru_res_df.loc[2]['rate']"
   ]
  },
  {
   "cell_type": "code",
   "execution_count": 56,
   "metadata": {},
   "outputs": [],
   "source": [
    "#function replaces any space\n",
    "#returns float value separated by \"/\" and np.nan for missing value\n",
    "bengaluru_res_df['rate'] = bengaluru_res_df.apply(lambda x: rates(x.rate), axis=1)"
   ]
  },
  {
   "cell_type": "code",
   "execution_count": 57,
   "metadata": {},
   "outputs": [
    {
     "data": {
      "text/plain": [
       "'+91 9663487993'"
      ]
     },
     "execution_count": 57,
     "metadata": {},
     "output_type": "execute_result"
    }
   ],
   "source": [
    "bengaluru_res_df.loc[2]['phone']"
   ]
  },
  {
   "cell_type": "code",
   "execution_count": 58,
   "metadata": {},
   "outputs": [],
   "source": [
    "#Function checks 8 continuos integers and increases the phone count by 1\n",
    "#returns number of phone numbers and 0 for missing value\n",
    "bengaluru_res_df['phone'] = bengaluru_res_df.apply(lambda x: phone_num_count(x.phone), axis=1)"
   ]
  },
  {
   "cell_type": "code",
   "execution_count": 59,
   "metadata": {},
   "outputs": [
    {
     "data": {
      "text/plain": [
       "'800'"
      ]
     },
     "execution_count": 59,
     "metadata": {},
     "output_type": "execute_result"
    }
   ],
   "source": [
    "bengaluru_res_df.loc[2]['cost_for_two']"
   ]
  },
  {
   "cell_type": "code",
   "execution_count": 60,
   "metadata": {},
   "outputs": [],
   "source": [
    "#function str_to_float replaces \",\" and \" \"-space and returns the float value of the cost. \n",
    "# returns np.nan for missing value\n",
    "bengaluru_res_df['cost_for_two'] = bengaluru_res_df.apply(lambda x: str_to_float(x.cost_for_two), axis=1)"
   ]
  },
  {
   "cell_type": "markdown",
   "metadata": {},
   "source": [
    "<a id='describe'></a>"
   ]
  },
  {
   "cell_type": "markdown",
   "metadata": {},
   "source": [
    "<a id='stats'></a>"
   ]
  },
  {
   "cell_type": "code",
   "execution_count": 61,
   "metadata": {},
   "outputs": [
    {
     "data": {
      "text/html": [
       "<div>\n",
       "<style scoped>\n",
       "    .dataframe tbody tr th:only-of-type {\n",
       "        vertical-align: middle;\n",
       "    }\n",
       "\n",
       "    .dataframe tbody tr th {\n",
       "        vertical-align: top;\n",
       "    }\n",
       "\n",
       "    .dataframe thead th {\n",
       "        text-align: right;\n",
       "    }\n",
       "</style>\n",
       "<table border=\"1\" class=\"dataframe\">\n",
       "  <thead>\n",
       "    <tr style=\"text-align: right;\">\n",
       "      <th></th>\n",
       "      <th>rate</th>\n",
       "      <th>phone</th>\n",
       "      <th>cost_for_two</th>\n",
       "      <th>online_order_no</th>\n",
       "      <th>online_order_yes</th>\n",
       "      <th>book_table_no</th>\n",
       "      <th>book_table_yes</th>\n",
       "    </tr>\n",
       "  </thead>\n",
       "  <tbody>\n",
       "    <tr>\n",
       "      <th>count</th>\n",
       "      <td>41660.000000</td>\n",
       "      <td>41660.000000</td>\n",
       "      <td>41418.000000</td>\n",
       "      <td>41660.000000</td>\n",
       "      <td>41660.000000</td>\n",
       "      <td>41660.000000</td>\n",
       "      <td>41660.000000</td>\n",
       "    </tr>\n",
       "    <tr>\n",
       "      <th>mean</th>\n",
       "      <td>3.700504</td>\n",
       "      <td>1.076092</td>\n",
       "      <td>603.268048</td>\n",
       "      <td>0.346952</td>\n",
       "      <td>0.653048</td>\n",
       "      <td>0.848680</td>\n",
       "      <td>0.151320</td>\n",
       "    </tr>\n",
       "    <tr>\n",
       "      <th>std</th>\n",
       "      <td>0.440468</td>\n",
       "      <td>0.660766</td>\n",
       "      <td>464.327857</td>\n",
       "      <td>0.476006</td>\n",
       "      <td>0.476006</td>\n",
       "      <td>0.358365</td>\n",
       "      <td>0.358365</td>\n",
       "    </tr>\n",
       "    <tr>\n",
       "      <th>min</th>\n",
       "      <td>1.800000</td>\n",
       "      <td>0.000000</td>\n",
       "      <td>40.000000</td>\n",
       "      <td>0.000000</td>\n",
       "      <td>0.000000</td>\n",
       "      <td>0.000000</td>\n",
       "      <td>0.000000</td>\n",
       "    </tr>\n",
       "    <tr>\n",
       "      <th>25%</th>\n",
       "      <td>3.400000</td>\n",
       "      <td>1.000000</td>\n",
       "      <td>300.000000</td>\n",
       "      <td>0.000000</td>\n",
       "      <td>0.000000</td>\n",
       "      <td>1.000000</td>\n",
       "      <td>0.000000</td>\n",
       "    </tr>\n",
       "    <tr>\n",
       "      <th>50%</th>\n",
       "      <td>3.700000</td>\n",
       "      <td>1.000000</td>\n",
       "      <td>500.000000</td>\n",
       "      <td>0.000000</td>\n",
       "      <td>1.000000</td>\n",
       "      <td>1.000000</td>\n",
       "      <td>0.000000</td>\n",
       "    </tr>\n",
       "    <tr>\n",
       "      <th>75%</th>\n",
       "      <td>4.000000</td>\n",
       "      <td>2.000000</td>\n",
       "      <td>700.000000</td>\n",
       "      <td>1.000000</td>\n",
       "      <td>1.000000</td>\n",
       "      <td>1.000000</td>\n",
       "      <td>0.000000</td>\n",
       "    </tr>\n",
       "    <tr>\n",
       "      <th>max</th>\n",
       "      <td>4.900000</td>\n",
       "      <td>2.000000</td>\n",
       "      <td>6000.000000</td>\n",
       "      <td>1.000000</td>\n",
       "      <td>1.000000</td>\n",
       "      <td>1.000000</td>\n",
       "      <td>1.000000</td>\n",
       "    </tr>\n",
       "  </tbody>\n",
       "</table>\n",
       "</div>"
      ],
      "text/plain": [
       "               rate         phone  cost_for_two  online_order_no  \\\n",
       "count  41660.000000  41660.000000  41418.000000     41660.000000   \n",
       "mean       3.700504      1.076092    603.268048         0.346952   \n",
       "std        0.440468      0.660766    464.327857         0.476006   \n",
       "min        1.800000      0.000000     40.000000         0.000000   \n",
       "25%        3.400000      1.000000    300.000000         0.000000   \n",
       "50%        3.700000      1.000000    500.000000         0.000000   \n",
       "75%        4.000000      2.000000    700.000000         1.000000   \n",
       "max        4.900000      2.000000   6000.000000         1.000000   \n",
       "\n",
       "       online_order_yes  book_table_no  book_table_yes  \n",
       "count      41660.000000   41660.000000    41660.000000  \n",
       "mean           0.653048       0.848680        0.151320  \n",
       "std            0.476006       0.358365        0.358365  \n",
       "min            0.000000       0.000000        0.000000  \n",
       "25%            0.000000       1.000000        0.000000  \n",
       "50%            1.000000       1.000000        0.000000  \n",
       "75%            1.000000       1.000000        0.000000  \n",
       "max            1.000000       1.000000        1.000000  "
      ]
     },
     "execution_count": 61,
     "metadata": {},
     "output_type": "execute_result"
    }
   ],
   "source": [
    "bengaluru_res_df.describe()"
   ]
  },
  {
   "cell_type": "code",
   "execution_count": 62,
   "metadata": {},
   "outputs": [
    {
     "data": {
      "text/plain": [
       "500.0"
      ]
     },
     "execution_count": 62,
     "metadata": {},
     "output_type": "execute_result"
    }
   ],
   "source": [
    "bengaluru_res_df['cost_for_two'].median()"
   ]
  },
  {
   "cell_type": "code",
   "execution_count": 63,
   "metadata": {},
   "outputs": [
    {
     "data": {
      "text/plain": [
       "603.2680477087257"
      ]
     },
     "execution_count": 63,
     "metadata": {},
     "output_type": "execute_result"
    }
   ],
   "source": [
    "bengaluru_res_df['cost_for_two'].mean()"
   ]
  },
  {
   "cell_type": "code",
   "execution_count": 64,
   "metadata": {},
   "outputs": [
    {
     "data": {
      "text/html": [
       "<div>\n",
       "<style scoped>\n",
       "    .dataframe tbody tr th:only-of-type {\n",
       "        vertical-align: middle;\n",
       "    }\n",
       "\n",
       "    .dataframe tbody tr th {\n",
       "        vertical-align: top;\n",
       "    }\n",
       "\n",
       "    .dataframe thead th {\n",
       "        text-align: right;\n",
       "    }\n",
       "</style>\n",
       "<table border=\"1\" class=\"dataframe\">\n",
       "  <thead>\n",
       "    <tr style=\"text-align: right;\">\n",
       "      <th></th>\n",
       "      <th>rate</th>\n",
       "      <th>phone</th>\n",
       "      <th>cost_for_two</th>\n",
       "      <th>online_order_no</th>\n",
       "      <th>online_order_yes</th>\n",
       "      <th>book_table_no</th>\n",
       "      <th>book_table_yes</th>\n",
       "    </tr>\n",
       "  </thead>\n",
       "  <tbody>\n",
       "    <tr>\n",
       "      <th>rate</th>\n",
       "      <td>1.000000</td>\n",
       "      <td>-0.039605</td>\n",
       "      <td>0.385183</td>\n",
       "      <td>-0.068326</td>\n",
       "      <td>0.068326</td>\n",
       "      <td>-0.424651</td>\n",
       "      <td>0.424651</td>\n",
       "    </tr>\n",
       "    <tr>\n",
       "      <th>phone</th>\n",
       "      <td>-0.039605</td>\n",
       "      <td>1.000000</td>\n",
       "      <td>-0.007960</td>\n",
       "      <td>-0.048984</td>\n",
       "      <td>0.048984</td>\n",
       "      <td>-0.004695</td>\n",
       "      <td>0.004695</td>\n",
       "    </tr>\n",
       "    <tr>\n",
       "      <th>cost_for_two</th>\n",
       "      <td>0.385183</td>\n",
       "      <td>-0.007960</td>\n",
       "      <td>1.000000</td>\n",
       "      <td>0.175517</td>\n",
       "      <td>-0.175517</td>\n",
       "      <td>-0.614338</td>\n",
       "      <td>0.614338</td>\n",
       "    </tr>\n",
       "    <tr>\n",
       "      <th>online_order_no</th>\n",
       "      <td>-0.068326</td>\n",
       "      <td>-0.048984</td>\n",
       "      <td>0.175517</td>\n",
       "      <td>1.000000</td>\n",
       "      <td>-1.000000</td>\n",
       "      <td>-0.051055</td>\n",
       "      <td>0.051055</td>\n",
       "    </tr>\n",
       "    <tr>\n",
       "      <th>online_order_yes</th>\n",
       "      <td>0.068326</td>\n",
       "      <td>0.048984</td>\n",
       "      <td>-0.175517</td>\n",
       "      <td>-1.000000</td>\n",
       "      <td>1.000000</td>\n",
       "      <td>0.051055</td>\n",
       "      <td>-0.051055</td>\n",
       "    </tr>\n",
       "    <tr>\n",
       "      <th>book_table_no</th>\n",
       "      <td>-0.424651</td>\n",
       "      <td>-0.004695</td>\n",
       "      <td>-0.614338</td>\n",
       "      <td>-0.051055</td>\n",
       "      <td>0.051055</td>\n",
       "      <td>1.000000</td>\n",
       "      <td>-1.000000</td>\n",
       "    </tr>\n",
       "    <tr>\n",
       "      <th>book_table_yes</th>\n",
       "      <td>0.424651</td>\n",
       "      <td>0.004695</td>\n",
       "      <td>0.614338</td>\n",
       "      <td>0.051055</td>\n",
       "      <td>-0.051055</td>\n",
       "      <td>-1.000000</td>\n",
       "      <td>1.000000</td>\n",
       "    </tr>\n",
       "  </tbody>\n",
       "</table>\n",
       "</div>"
      ],
      "text/plain": [
       "                      rate     phone  cost_for_two  online_order_no  \\\n",
       "rate              1.000000 -0.039605      0.385183        -0.068326   \n",
       "phone            -0.039605  1.000000     -0.007960        -0.048984   \n",
       "cost_for_two      0.385183 -0.007960      1.000000         0.175517   \n",
       "online_order_no  -0.068326 -0.048984      0.175517         1.000000   \n",
       "online_order_yes  0.068326  0.048984     -0.175517        -1.000000   \n",
       "book_table_no    -0.424651 -0.004695     -0.614338        -0.051055   \n",
       "book_table_yes    0.424651  0.004695      0.614338         0.051055   \n",
       "\n",
       "                  online_order_yes  book_table_no  book_table_yes  \n",
       "rate                      0.068326      -0.424651        0.424651  \n",
       "phone                     0.048984      -0.004695        0.004695  \n",
       "cost_for_two             -0.175517      -0.614338        0.614338  \n",
       "online_order_no          -1.000000      -0.051055        0.051055  \n",
       "online_order_yes          1.000000       0.051055       -0.051055  \n",
       "book_table_no             0.051055       1.000000       -1.000000  \n",
       "book_table_yes           -0.051055      -1.000000        1.000000  "
      ]
     },
     "execution_count": 64,
     "metadata": {},
     "output_type": "execute_result"
    }
   ],
   "source": [
    "bengaluru_res_df.corr()"
   ]
  },
  {
   "cell_type": "markdown",
   "metadata": {},
   "source": [
    "**Inference:**<br>\n",
    "- small correlation can be seen between rates and cost_for_two which was expected\n",
    "- a positive correlation can be seen between booking table and rates."
   ]
  },
  {
   "cell_type": "code",
   "execution_count": 65,
   "metadata": {},
   "outputs": [
    {
     "data": {
      "text/plain": [
       "Index(['rate', 'phone', 'location', 'rest_type', 'cuisines', 'cost_for_two',\n",
       "       'listed_in_type', 'listed_in_city', 'online_order_no',\n",
       "       'online_order_yes', 'book_table_no', 'book_table_yes'],\n",
       "      dtype='object')"
      ]
     },
     "execution_count": 65,
     "metadata": {},
     "output_type": "execute_result"
    }
   ],
   "source": [
    "bengaluru_res_df.columns"
   ]
  },
  {
   "cell_type": "markdown",
   "metadata": {},
   "source": [
    "#### 3.3.3 Multi level categorical columns"
   ]
  },
  {
   "cell_type": "markdown",
   "metadata": {},
   "source": [
    "#### 1. methods to deal with multi level categorical values\n",
    "https://www.analyticsvidhya.com/blog/2015/11/easy-methods-deal-categorical-variables-predictive-modeling/\n",
    "\n",
    "The location columns is nominal as the name there are total 93 distinct location for Restaurants in Bengaluru\n",
    "- Creating dummy values\n",
    "- creating new levels based on frequency\n",
    "- Converting to numeric values - label encoding\n",
    "- Hashing\n",
    "there are other complicated encoders such as Hermet, sum, backward, polynomial encoders\n",
    ">For my project **I used creating dummy variables** because it saves all the information in form of binary input. Giving labels to more than 30 values will takeout all the information and it will be difficult to process the data for prediction."
   ]
  },
  {
   "cell_type": "markdown",
   "metadata": {},
   "source": [
    "**i) listed_in_type column**\n",
    "Types of restaurants listed by Zomato for quick searches - 7 unqiue types.\n",
    "- The types are converted into lower case with space replaced by \"_\" undercolumn\n",
    "- dummies are created for these 7 types."
   ]
  },
  {
   "cell_type": "code",
   "execution_count": 66,
   "metadata": {},
   "outputs": [
    {
     "data": {
      "text/plain": [
       "array(['Buffet', 'Cafes', 'Delivery', 'Desserts', 'Dine-out',\n",
       "       'Drinks & nightlife', 'Pubs and bars'], dtype=object)"
      ]
     },
     "execution_count": 66,
     "metadata": {},
     "output_type": "execute_result"
    }
   ],
   "source": [
    "listed_rest_types = bengaluru_res_df['listed_in_type'].unique()\n",
    "listed_rest_types"
   ]
  },
  {
   "cell_type": "code",
   "execution_count": 67,
   "metadata": {},
   "outputs": [
    {
     "name": "stdout",
     "output_type": "stream",
     "text": [
      "Columns count before dummies: 12\n"
     ]
    }
   ],
   "source": [
    "print(\"Columns count before dummies:\",len(bengaluru_res_df.columns))"
   ]
  },
  {
   "cell_type": "code",
   "execution_count": 68,
   "metadata": {},
   "outputs": [],
   "source": [
    "#replacing space with \"_\" and string to lower case\n",
    "bengaluru_res_df['listed_in_type'] = bengaluru_res_df.apply(lambda x: x.listed_in_type.replace(\" \",\"_\").lower(), axis = 1)"
   ]
  },
  {
   "cell_type": "code",
   "execution_count": 69,
   "metadata": {},
   "outputs": [],
   "source": [
    "#Getting dummies for listed_in_type\n",
    "bengaluru_res_df = pd.get_dummies(bengaluru_res_df, columns=['listed_in_type'])"
   ]
  },
  {
   "cell_type": "code",
   "execution_count": 70,
   "metadata": {},
   "outputs": [
    {
     "name": "stdout",
     "output_type": "stream",
     "text": [
      "Columns count after dummies: 18\n"
     ]
    }
   ],
   "source": [
    "print(\"Columns count after dummies:\",len(bengaluru_res_df.columns))"
   ]
  },
  {
   "cell_type": "code",
   "execution_count": 71,
   "metadata": {},
   "outputs": [
    {
     "data": {
      "text/plain": [
       "Index(['rate', 'phone', 'location', 'rest_type', 'cuisines', 'cost_for_two',\n",
       "       'listed_in_city', 'online_order_no', 'online_order_yes',\n",
       "       'book_table_no', 'book_table_yes', 'listed_in_type_buffet',\n",
       "       'listed_in_type_cafes', 'listed_in_type_delivery',\n",
       "       'listed_in_type_desserts', 'listed_in_type_dine-out',\n",
       "       'listed_in_type_drinks_&_nightlife', 'listed_in_type_pubs_and_bars'],\n",
       "      dtype='object')"
      ]
     },
     "execution_count": 71,
     "metadata": {},
     "output_type": "execute_result"
    }
   ],
   "source": [
    "bengaluru_res_df.columns"
   ]
  },
  {
   "cell_type": "markdown",
   "metadata": {},
   "source": [
    "**ii) listed_in_city column**\n",
    "these are the city location in Bengaluru that Zomato has listed all its restaurants:\n",
    "- There are 30 locations\n",
    "- The types are converted into lower case with space replaced by \"_\" undercolumn"
   ]
  },
  {
   "cell_type": "code",
   "execution_count": 72,
   "metadata": {},
   "outputs": [
    {
     "data": {
      "text/plain": [
       "array(['Banashankari', 'Bannerghatta Road', 'Basavanagudi', 'Bellandur',\n",
       "       'Brigade Road', 'Brookefield', 'BTM', 'Church Street',\n",
       "       'Electronic City', 'Frazer Town', 'HSR', 'Indiranagar',\n",
       "       'Jayanagar', 'JP Nagar', 'Kalyan Nagar', 'Kammanahalli',\n",
       "       'Koramangala 4th Block', 'Koramangala 5th Block',\n",
       "       'Koramangala 6th Block', 'Koramangala 7th Block', 'Lavelle Road',\n",
       "       'Malleshwaram', 'Marathahalli', 'MG Road', 'New BEL Road',\n",
       "       'Old Airport Road', 'Rajajinagar', 'Residency Road',\n",
       "       'Sarjapur Road', 'Whitefield'], dtype=object)"
      ]
     },
     "execution_count": 72,
     "metadata": {},
     "output_type": "execute_result"
    }
   ],
   "source": [
    "#printiing unique 30 locations listed by zomato\n",
    "listed_rest_city_loc = bengaluru_res_df['listed_in_city'].unique()\n",
    "listed_rest_city_loc"
   ]
  },
  {
   "cell_type": "code",
   "execution_count": 73,
   "metadata": {},
   "outputs": [],
   "source": [
    "bengaluru_res_df['listed_in_city'] = bengaluru_res_df.apply(lambda x: x.listed_in_city.replace(\" \",\"_\").lower(), axis = 1)"
   ]
  },
  {
   "cell_type": "code",
   "execution_count": 74,
   "metadata": {},
   "outputs": [
    {
     "name": "stdout",
     "output_type": "stream",
     "text": [
      "Columns count before dummies: 18\n"
     ]
    }
   ],
   "source": [
    "print(\"Columns count before dummies:\",len(bengaluru_res_df.columns))"
   ]
  },
  {
   "cell_type": "code",
   "execution_count": 75,
   "metadata": {},
   "outputs": [],
   "source": [
    "bengaluru_res_df = pd.get_dummies(bengaluru_res_df, columns=['listed_in_city'])"
   ]
  },
  {
   "cell_type": "code",
   "execution_count": 76,
   "metadata": {},
   "outputs": [
    {
     "name": "stdout",
     "output_type": "stream",
     "text": [
      "Columns count after dummies: 47\n"
     ]
    }
   ],
   "source": [
    "print(\"Columns count after dummies:\",len(bengaluru_res_df.columns))"
   ]
  },
  {
   "cell_type": "code",
   "execution_count": 77,
   "metadata": {},
   "outputs": [
    {
     "data": {
      "text/plain": [
       "Index(['rate', 'phone', 'location', 'rest_type', 'cuisines', 'cost_for_two',\n",
       "       'online_order_no', 'online_order_yes', 'book_table_no',\n",
       "       'book_table_yes', 'listed_in_type_buffet', 'listed_in_type_cafes',\n",
       "       'listed_in_type_delivery', 'listed_in_type_desserts',\n",
       "       'listed_in_type_dine-out', 'listed_in_type_drinks_&_nightlife',\n",
       "       'listed_in_type_pubs_and_bars', 'listed_in_city_banashankari',\n",
       "       'listed_in_city_bannerghatta_road', 'listed_in_city_basavanagudi',\n",
       "       'listed_in_city_bellandur', 'listed_in_city_brigade_road',\n",
       "       'listed_in_city_brookefield', 'listed_in_city_btm',\n",
       "       'listed_in_city_church_street', 'listed_in_city_electronic_city',\n",
       "       'listed_in_city_frazer_town', 'listed_in_city_hsr',\n",
       "       'listed_in_city_indiranagar', 'listed_in_city_jayanagar',\n",
       "       'listed_in_city_jp_nagar', 'listed_in_city_kalyan_nagar',\n",
       "       'listed_in_city_kammanahalli', 'listed_in_city_koramangala_4th_block',\n",
       "       'listed_in_city_koramangala_5th_block',\n",
       "       'listed_in_city_koramangala_6th_block',\n",
       "       'listed_in_city_koramangala_7th_block', 'listed_in_city_lavelle_road',\n",
       "       'listed_in_city_malleshwaram', 'listed_in_city_marathahalli',\n",
       "       'listed_in_city_mg_road', 'listed_in_city_new_bel_road',\n",
       "       'listed_in_city_old_airport_road', 'listed_in_city_rajajinagar',\n",
       "       'listed_in_city_residency_road', 'listed_in_city_sarjapur_road',\n",
       "       'listed_in_city_whitefield'],\n",
       "      dtype='object')"
      ]
     },
     "execution_count": 77,
     "metadata": {},
     "output_type": "execute_result"
    }
   ],
   "source": [
    "bengaluru_res_df.columns"
   ]
  },
  {
   "cell_type": "markdown",
   "metadata": {},
   "source": [
    "**iii) location column**<br>\n",
    "there are 93 unique locations, for this project I am considering \"listed_in_city\" for location and droping \"location\" column"
   ]
  },
  {
   "cell_type": "code",
   "execution_count": 78,
   "metadata": {},
   "outputs": [
    {
     "data": {
      "text/plain": [
       "array(['Banashankari', 'Basavanagudi', 'Mysore Road', 'Jayanagar',\n",
       "       'Kumaraswamy Layout', 'Rajarajeshwari Nagar', 'Vijay Nagar',\n",
       "       'Uttarahalli', 'JP Nagar', 'South Bangalore', 'City Market',\n",
       "       'Bannerghatta Road', 'BTM', 'Kanakapura Road', 'Bommanahalli',\n",
       "       'Electronic City', 'Sarjapur Road', 'Wilson Garden',\n",
       "       'Shanti Nagar', 'Koramangala 5th Block', 'Richmond Road', 'HSR',\n",
       "       'Koramangala 7th Block', 'Bellandur', 'Marathahalli', 'Whitefield',\n",
       "       'East Bangalore', 'Old Airport Road', 'Indiranagar',\n",
       "       'Koramangala 1st Block', 'Frazer Town', 'MG Road', 'Brigade Road',\n",
       "       'Lavelle Road', 'Church Street', 'Ulsoor', 'Residency Road',\n",
       "       'Shivajinagar', 'Infantry Road', 'St. Marks Road',\n",
       "       'Cunningham Road', 'Race Course Road', 'Commercial Street',\n",
       "       'Vasanth Nagar', 'Domlur', 'Koramangala 8th Block', 'Ejipura',\n",
       "       'Jeevan Bhima Nagar', 'Old Madras Road', 'Seshadripuram',\n",
       "       'Kammanahalli', 'Koramangala 6th Block', 'Majestic',\n",
       "       'Langford Town', 'Central Bangalore', 'Brookefield',\n",
       "       'ITPL Main Road, Whitefield', 'Varthur Main Road, Whitefield',\n",
       "       'Koramangala 2nd Block', 'Koramangala 3rd Block',\n",
       "       'Koramangala 4th Block', 'Koramangala', 'Hosur Road', 'RT Nagar',\n",
       "       'Banaswadi', 'North Bangalore', 'Nagawara', 'Hennur',\n",
       "       'Kalyan Nagar', 'HBR Layout', 'Rammurthy Nagar', 'Thippasandra',\n",
       "       'CV Raman Nagar', 'Kaggadasapura', 'Kengeri', 'Sankey Road',\n",
       "       'Malleshwaram', 'Sanjay Nagar', 'Sadashiv Nagar',\n",
       "       'Basaveshwara Nagar', 'Rajajinagar', 'Yeshwantpur', 'New BEL Road',\n",
       "       'West Bangalore', 'Magadi Road', 'Yelahanka', 'Sahakara Nagar',\n",
       "       'Jalahalli', 'Hebbal', 'Nagarbhavi', 'Peenya', 'KR Puram'],\n",
       "      dtype=object)"
      ]
     },
     "execution_count": 78,
     "metadata": {},
     "output_type": "execute_result"
    }
   ],
   "source": [
    "bengaluru_res_df['location'].unique()"
   ]
  },
  {
   "cell_type": "code",
   "execution_count": 79,
   "metadata": {},
   "outputs": [],
   "source": [
    "#bengaluru_res_df['location'] = le.transform(bengaluru_res_df['location']) \n",
    "bengaluru_res_df.drop(columns = ['location'],inplace = True, axis = 1) "
   ]
  },
  {
   "cell_type": "code",
   "execution_count": 80,
   "metadata": {},
   "outputs": [
    {
     "data": {
      "text/plain": [
       "46"
      ]
     },
     "execution_count": 80,
     "metadata": {},
     "output_type": "execute_result"
    }
   ],
   "source": [
    "len(bengaluru_res_df.columns)"
   ]
  },
  {
   "cell_type": "markdown",
   "metadata": {},
   "source": [
    "#### 3.3.4 mixed Multi level categorical columns\n",
    "- rest_type - restaurant type as mentioned by the restaurant - few have two types, **converting rest_type** the \n",
    "creating two columns for rest_type which separates the two restaurant types **in rest_type1 and rest_type2**. the value is converted to lower case and the space is removed. example\n",
    "\n",
    "| rest_type   |\n",
    "|------------|\n",
    "|   Cafe,Casual Dining|\n",
    "\n",
    "| rest_type1 | rest_type2   |  \n",
    "|------|------|\n",
    "|   cafe  | casualdining|\n",
    "\n",
    "- cuisines - cuisines type as menstioned by the restaurant - restaurant may have cuisines type between 1-8. **converting cuisines** to two columns **cuisines_type_1 and cuisines_type_2** which contains first two cuisines in two columns.the value is converted to lower case and the space is removed. example\n",
    "\n",
    "| cuisines   |\n",
    "|------------|\n",
    "|   North Indian, Fast Food, South Indian|\n",
    "\n",
    "| cuisines_type1 | cuisines_type2   |  \n",
    "|------|------|\n",
    "|   northindian  | fastfood|"
   ]
  },
  {
   "cell_type": "markdown",
   "metadata": {},
   "source": [
    "**i) rest_type**"
   ]
  },
  {
   "cell_type": "code",
   "execution_count": 81,
   "metadata": {},
   "outputs": [
    {
     "data": {
      "text/plain": [
       "'Cafe, Casual Dining'"
      ]
     },
     "execution_count": 81,
     "metadata": {},
     "output_type": "execute_result"
    }
   ],
   "source": [
    "#before processing\n",
    "bengaluru_res_df['rest_type'][2]"
   ]
  },
  {
   "cell_type": "code",
   "execution_count": 82,
   "metadata": {},
   "outputs": [],
   "source": [
    "#converting to lower case and replacing space with no space\n",
    "bengaluru_res_df['rest_type'] = bengaluru_res_df.apply(lambda x: lower_(x.rest_type), axis=1)"
   ]
  },
  {
   "cell_type": "code",
   "execution_count": 83,
   "metadata": {},
   "outputs": [
    {
     "data": {
      "text/plain": [
       "'cafe,casualdining'"
      ]
     },
     "execution_count": 83,
     "metadata": {},
     "output_type": "execute_result"
    }
   ],
   "source": [
    "#after processin\n",
    "bengaluru_res_df['rest_type'][2]"
   ]
  },
  {
   "cell_type": "code",
   "execution_count": 84,
   "metadata": {},
   "outputs": [],
   "source": [
    "bengaluru_res_df['rest_type1'] = bengaluru_res_df.apply(lambda x: type_x(x.rest_type,1), axis=1)\n",
    "bengaluru_res_df['rest_type2'] = bengaluru_res_df.apply(lambda x: type_x(x.rest_type,2), axis=1)"
   ]
  },
  {
   "cell_type": "code",
   "execution_count": 85,
   "metadata": {},
   "outputs": [
    {
     "name": "stdout",
     "output_type": "stream",
     "text": [
      "23\n"
     ]
    },
    {
     "data": {
      "text/plain": [
       "array(['casualdining', 'cafe', 'quickbites', 'delivery', 'mess',\n",
       "       'dessertparlor', 'bakery', 'pub', 'takeaway', 'finedining',\n",
       "       'beverageshop', 'sweetshop', 'bar', 'kiosk', 'foodtruck',\n",
       "       'microbrewery', 'lounge', 'foodcourt', nan, 'dhaba', 'club',\n",
       "       'confectionery', 'bhojanalya'], dtype=object)"
      ]
     },
     "execution_count": 85,
     "metadata": {},
     "output_type": "execute_result"
    }
   ],
   "source": [
    "print(len(bengaluru_res_df['rest_type1'].unique()))\n",
    "bengaluru_res_df['rest_type1'].unique()"
   ]
  },
  {
   "cell_type": "code",
   "execution_count": 86,
   "metadata": {},
   "outputs": [
    {
     "name": "stdout",
     "output_type": "stream",
     "text": [
      "18\n"
     ]
    },
    {
     "data": {
      "text/plain": [
       "array([nan, 'casualdining', 'cafe', 'quickbites', 'dessertparlor',\n",
       "       'delivery', 'sweetshop', 'bar', 'beverageshop', 'bakery', 'pub',\n",
       "       'microbrewery', 'foodcourt', 'iranicafee', 'lounge', 'kiosk',\n",
       "       'mess', 'meatshop'], dtype=object)"
      ]
     },
     "execution_count": 86,
     "metadata": {},
     "output_type": "execute_result"
    }
   ],
   "source": [
    "print(len(bengaluru_res_df['rest_type2'].unique()))\n",
    "bengaluru_res_df['rest_type2'].unique()"
   ]
  },
  {
   "cell_type": "markdown",
   "metadata": {},
   "source": [
    "**Inference**<br>\n",
    "There are 25 unique restaurants listed by them, it was seen that the first column created  **rest_type1** has only 23 unique types out of 25 and ** rest_type2** has only 18 unique types out of 25. \n",
    "> **Note:**The dummies cannot be created using pd.dummies, **the below code creates dummy columns for all the unique rest type  (for rest in unique_rest) for the columns rest_type1,rest_type2**\n",
    "<br> **unique_rest** - contain unique restaurants types created during exploration of rest_type"
   ]
  },
  {
   "cell_type": "markdown",
   "metadata": {},
   "source": [
    "print(\"Restaurant type unique mentioned in rest_type:\" len(unique_rest.keys()))\n",
    "vs.unique_rest_types(bengaluru_res_df, unique_rest)"
   ]
  },
  {
   "cell_type": "code",
   "execution_count": 87,
   "metadata": {},
   "outputs": [
    {
     "name": "stdout",
     "output_type": "stream",
     "text": [
      "columns before creating dummies:\n"
     ]
    },
    {
     "data": {
      "text/plain": [
       "48"
      ]
     },
     "execution_count": 87,
     "metadata": {},
     "output_type": "execute_result"
    }
   ],
   "source": [
    "print(\"columns before creating dummies:\")\n",
    "len(bengaluru_res_df.columns)"
   ]
  },
  {
   "cell_type": "code",
   "execution_count": 88,
   "metadata": {},
   "outputs": [],
   "source": [
    "#code which creates dummy variable for both the column rest_type1 and rest_type2\n",
    "for rest in unique_rest:\n",
    "    column_name1 = 'rest_type1_'+ rest\n",
    "    column_name2 = 'rest_type2_' + rest\n",
    "    bengaluru_res_df[column_name1] = bengaluru_res_df.apply(lambda x: 1 if x.rest_type1 == rest else 0, axis=1)\n",
    "    bengaluru_res_df[column_name2] = bengaluru_res_df.apply(lambda x: 1 if x.rest_type2 == rest else 0, axis=1)\n",
    "    #print(column_name)"
   ]
  },
  {
   "cell_type": "code",
   "execution_count": 89,
   "metadata": {},
   "outputs": [],
   "source": [
    "#dropping columns after creating columns\n",
    "bengaluru_res_df.drop(columns =['rest_type1','rest_type2','rest_type'],inplace = True)"
   ]
  },
  {
   "cell_type": "code",
   "execution_count": 90,
   "metadata": {},
   "outputs": [
    {
     "name": "stdout",
     "output_type": "stream",
     "text": [
      "columns after creating dummies:\n"
     ]
    },
    {
     "data": {
      "text/plain": [
       "95"
      ]
     },
     "execution_count": 90,
     "metadata": {},
     "output_type": "execute_result"
    }
   ],
   "source": [
    "print(\"columns after creating dummies:\")\n",
    "len(bengaluru_res_df.columns)"
   ]
  },
  {
   "cell_type": "code",
   "execution_count": 91,
   "metadata": {},
   "outputs": [],
   "source": [
    "#https://stackoverflow.com/questions/36808434/label-encoder-encoding-missing-values\n",
    "#bengaluru_res_df['rest_type1'] = bengaluru_res_df.apply(lambda x: le.transform([x.rest_type1])[0] if type(x.rest_type1) == str else x.rest_type1,axis = 1)\n",
    "#bengaluru_res_df['rest_type2'] = bengaluru_res_df.apply(lambda x: le.transform([x.rest_type2])[0] if type(x.rest_type2) == str else x.rest_type2,axis = 1)"
   ]
  },
  {
   "cell_type": "markdown",
   "metadata": {},
   "source": [
    "**ii). cuisines**"
   ]
  },
  {
   "cell_type": "code",
   "execution_count": 92,
   "metadata": {},
   "outputs": [],
   "source": [
    "bengaluru_res_df['cuisines'] = bengaluru_res_df.apply(lambda x: lower_(x.cuisines), axis=1)"
   ]
  },
  {
   "cell_type": "code",
   "execution_count": 93,
   "metadata": {},
   "outputs": [
    {
     "data": {
      "text/plain": [
       "0    northindian,mughlai,chinese\n",
       "1       chinese,northindian,thai\n",
       "2           cafe,mexican,italian\n",
       "3        southindian,northindian\n",
       "4         northindian,rajasthani\n",
       "Name: cuisines, dtype: object"
      ]
     },
     "execution_count": 93,
     "metadata": {},
     "output_type": "execute_result"
    }
   ],
   "source": [
    "bengaluru_res_df['cuisines'].head()"
   ]
  },
  {
   "cell_type": "code",
   "execution_count": 94,
   "metadata": {},
   "outputs": [],
   "source": [
    "bengaluru_res_df['cuisines_1'] = bengaluru_res_df.apply(lambda x: type_x(x.cuisines,1), axis=1)\n",
    "bengaluru_res_df['cuisines_2'] = bengaluru_res_df.apply(lambda x: type_x(x.cuisines,2), axis=1)"
   ]
  },
  {
   "cell_type": "markdown",
   "metadata": {},
   "source": [
    "> Creating dummy variable using for loop, because columns cuisines_1, cuisines_2 may not contain all unique cuisine type<br>\n",
    "**unique_cuisines** - contains unique cuisines created during exploration"
   ]
  },
  {
   "cell_type": "code",
   "execution_count": 95,
   "metadata": {},
   "outputs": [
    {
     "name": "stdout",
     "output_type": "stream",
     "text": [
      "columns before creating dummies:\n"
     ]
    },
    {
     "data": {
      "text/plain": [
       "97"
      ]
     },
     "execution_count": 95,
     "metadata": {},
     "output_type": "execute_result"
    }
   ],
   "source": [
    "print(\"columns before creating dummies:\")\n",
    "len(bengaluru_res_df.columns)"
   ]
  },
  {
   "cell_type": "code",
   "execution_count": 96,
   "metadata": {},
   "outputs": [],
   "source": [
    "for cuisine in unique_cuisines:\n",
    "    cuisine = cuisine.lower()\n",
    "    column_name1 = 'cuisines_1_'+ cuisine\n",
    "    column_name2 = 'cuisines_2_' + cuisine\n",
    "    bengaluru_res_df[column_name1] = bengaluru_res_df.apply(lambda x: 1 if x.cuisines_1 == cuisine else 0, axis=1)\n",
    "    bengaluru_res_df[column_name2] = bengaluru_res_df.apply(lambda x: 1 if x.cuisines_2 == cuisine else 0, axis=1)"
   ]
  },
  {
   "cell_type": "code",
   "execution_count": 97,
   "metadata": {},
   "outputs": [],
   "source": [
    "bengaluru_res_df.drop(columns =['cuisines_1','cuisines_2','cuisines'],inplace = True)"
   ]
  },
  {
   "cell_type": "code",
   "execution_count": 98,
   "metadata": {},
   "outputs": [
    {
     "name": "stdout",
     "output_type": "stream",
     "text": [
      "columns after creating dummies:\n"
     ]
    },
    {
     "data": {
      "text/plain": [
       "308"
      ]
     },
     "execution_count": 98,
     "metadata": {},
     "output_type": "execute_result"
    }
   ],
   "source": [
    "print(\"columns after creating dummies:\")\n",
    "len(bengaluru_res_df.columns)"
   ]
  },
  {
   "cell_type": "code",
   "execution_count": 99,
   "metadata": {},
   "outputs": [
    {
     "data": {
      "text/html": [
       "<div>\n",
       "<style scoped>\n",
       "    .dataframe tbody tr th:only-of-type {\n",
       "        vertical-align: middle;\n",
       "    }\n",
       "\n",
       "    .dataframe tbody tr th {\n",
       "        vertical-align: top;\n",
       "    }\n",
       "\n",
       "    .dataframe thead th {\n",
       "        text-align: right;\n",
       "    }\n",
       "</style>\n",
       "<table border=\"1\" class=\"dataframe\">\n",
       "  <thead>\n",
       "    <tr style=\"text-align: right;\">\n",
       "      <th></th>\n",
       "      <th>rate</th>\n",
       "      <th>phone</th>\n",
       "      <th>cost_for_two</th>\n",
       "      <th>online_order_no</th>\n",
       "      <th>online_order_yes</th>\n",
       "      <th>book_table_no</th>\n",
       "      <th>book_table_yes</th>\n",
       "      <th>listed_in_type_buffet</th>\n",
       "      <th>listed_in_type_cafes</th>\n",
       "      <th>listed_in_type_delivery</th>\n",
       "      <th>...</th>\n",
       "      <th>cuisines_1_jewish</th>\n",
       "      <th>cuisines_2_jewish</th>\n",
       "      <th>cuisines_1_vegan</th>\n",
       "      <th>cuisines_2_vegan</th>\n",
       "      <th>cuisines_1_rawmeats</th>\n",
       "      <th>cuisines_2_rawmeats</th>\n",
       "      <th>cuisines_1_malwani</th>\n",
       "      <th>cuisines_2_malwani</th>\n",
       "      <th>cuisines_1_sindhi</th>\n",
       "      <th>cuisines_2_sindhi</th>\n",
       "    </tr>\n",
       "  </thead>\n",
       "  <tbody>\n",
       "    <tr>\n",
       "      <th>0</th>\n",
       "      <td>4.1</td>\n",
       "      <td>2</td>\n",
       "      <td>800.0</td>\n",
       "      <td>0</td>\n",
       "      <td>1</td>\n",
       "      <td>0</td>\n",
       "      <td>1</td>\n",
       "      <td>1</td>\n",
       "      <td>0</td>\n",
       "      <td>0</td>\n",
       "      <td>...</td>\n",
       "      <td>0</td>\n",
       "      <td>0</td>\n",
       "      <td>0</td>\n",
       "      <td>0</td>\n",
       "      <td>0</td>\n",
       "      <td>0</td>\n",
       "      <td>0</td>\n",
       "      <td>0</td>\n",
       "      <td>0</td>\n",
       "      <td>0</td>\n",
       "    </tr>\n",
       "    <tr>\n",
       "      <th>1</th>\n",
       "      <td>4.1</td>\n",
       "      <td>1</td>\n",
       "      <td>800.0</td>\n",
       "      <td>0</td>\n",
       "      <td>1</td>\n",
       "      <td>1</td>\n",
       "      <td>0</td>\n",
       "      <td>1</td>\n",
       "      <td>0</td>\n",
       "      <td>0</td>\n",
       "      <td>...</td>\n",
       "      <td>0</td>\n",
       "      <td>0</td>\n",
       "      <td>0</td>\n",
       "      <td>0</td>\n",
       "      <td>0</td>\n",
       "      <td>0</td>\n",
       "      <td>0</td>\n",
       "      <td>0</td>\n",
       "      <td>0</td>\n",
       "      <td>0</td>\n",
       "    </tr>\n",
       "    <tr>\n",
       "      <th>2</th>\n",
       "      <td>3.8</td>\n",
       "      <td>1</td>\n",
       "      <td>800.0</td>\n",
       "      <td>0</td>\n",
       "      <td>1</td>\n",
       "      <td>1</td>\n",
       "      <td>0</td>\n",
       "      <td>1</td>\n",
       "      <td>0</td>\n",
       "      <td>0</td>\n",
       "      <td>...</td>\n",
       "      <td>0</td>\n",
       "      <td>0</td>\n",
       "      <td>0</td>\n",
       "      <td>0</td>\n",
       "      <td>0</td>\n",
       "      <td>0</td>\n",
       "      <td>0</td>\n",
       "      <td>0</td>\n",
       "      <td>0</td>\n",
       "      <td>0</td>\n",
       "    </tr>\n",
       "    <tr>\n",
       "      <th>3</th>\n",
       "      <td>3.7</td>\n",
       "      <td>0</td>\n",
       "      <td>300.0</td>\n",
       "      <td>1</td>\n",
       "      <td>0</td>\n",
       "      <td>1</td>\n",
       "      <td>0</td>\n",
       "      <td>1</td>\n",
       "      <td>0</td>\n",
       "      <td>0</td>\n",
       "      <td>...</td>\n",
       "      <td>0</td>\n",
       "      <td>0</td>\n",
       "      <td>0</td>\n",
       "      <td>0</td>\n",
       "      <td>0</td>\n",
       "      <td>0</td>\n",
       "      <td>0</td>\n",
       "      <td>0</td>\n",
       "      <td>0</td>\n",
       "      <td>0</td>\n",
       "    </tr>\n",
       "    <tr>\n",
       "      <th>4</th>\n",
       "      <td>3.8</td>\n",
       "      <td>1</td>\n",
       "      <td>600.0</td>\n",
       "      <td>1</td>\n",
       "      <td>0</td>\n",
       "      <td>1</td>\n",
       "      <td>0</td>\n",
       "      <td>1</td>\n",
       "      <td>0</td>\n",
       "      <td>0</td>\n",
       "      <td>...</td>\n",
       "      <td>0</td>\n",
       "      <td>0</td>\n",
       "      <td>0</td>\n",
       "      <td>0</td>\n",
       "      <td>0</td>\n",
       "      <td>0</td>\n",
       "      <td>0</td>\n",
       "      <td>0</td>\n",
       "      <td>0</td>\n",
       "      <td>0</td>\n",
       "    </tr>\n",
       "  </tbody>\n",
       "</table>\n",
       "<p>5 rows × 308 columns</p>\n",
       "</div>"
      ],
      "text/plain": [
       "   rate  phone  cost_for_two  online_order_no  online_order_yes  \\\n",
       "0   4.1      2         800.0                0                 1   \n",
       "1   4.1      1         800.0                0                 1   \n",
       "2   3.8      1         800.0                0                 1   \n",
       "3   3.7      0         300.0                1                 0   \n",
       "4   3.8      1         600.0                1                 0   \n",
       "\n",
       "   book_table_no  book_table_yes  listed_in_type_buffet  listed_in_type_cafes  \\\n",
       "0              0               1                      1                     0   \n",
       "1              1               0                      1                     0   \n",
       "2              1               0                      1                     0   \n",
       "3              1               0                      1                     0   \n",
       "4              1               0                      1                     0   \n",
       "\n",
       "   listed_in_type_delivery  ...  cuisines_1_jewish  cuisines_2_jewish  \\\n",
       "0                        0  ...                  0                  0   \n",
       "1                        0  ...                  0                  0   \n",
       "2                        0  ...                  0                  0   \n",
       "3                        0  ...                  0                  0   \n",
       "4                        0  ...                  0                  0   \n",
       "\n",
       "   cuisines_1_vegan  cuisines_2_vegan  cuisines_1_rawmeats  \\\n",
       "0                 0                 0                    0   \n",
       "1                 0                 0                    0   \n",
       "2                 0                 0                    0   \n",
       "3                 0                 0                    0   \n",
       "4                 0                 0                    0   \n",
       "\n",
       "   cuisines_2_rawmeats  cuisines_1_malwani  cuisines_2_malwani  \\\n",
       "0                    0                   0                   0   \n",
       "1                    0                   0                   0   \n",
       "2                    0                   0                   0   \n",
       "3                    0                   0                   0   \n",
       "4                    0                   0                   0   \n",
       "\n",
       "   cuisines_1_sindhi  cuisines_2_sindhi  \n",
       "0                  0                  0  \n",
       "1                  0                  0  \n",
       "2                  0                  0  \n",
       "3                  0                  0  \n",
       "4                  0                  0  \n",
       "\n",
       "[5 rows x 308 columns]"
      ]
     },
     "execution_count": 99,
     "metadata": {},
     "output_type": "execute_result"
    }
   ],
   "source": [
    "bengaluru_res_df.head()"
   ]
  },
  {
   "cell_type": "markdown",
   "metadata": {},
   "source": [
    "**Dataframe after processing all the data**:"
   ]
  },
  {
   "cell_type": "code",
   "execution_count": 100,
   "metadata": {},
   "outputs": [
    {
     "data": {
      "text/plain": [
       "(41660, 308)"
      ]
     },
     "execution_count": 100,
     "metadata": {},
     "output_type": "execute_result"
    }
   ],
   "source": [
    "bengaluru_res_df.shape"
   ]
  },
  {
   "cell_type": "markdown",
   "metadata": {},
   "source": [
    "- The processed dataframe contains "
   ]
  },
  {
   "cell_type": "markdown",
   "metadata": {},
   "source": [
    "### 3.3.5 Processing Target variable\n",
    "<img src = \"images/labels.png\" width = \"400\">\n",
    "the target bin is labelled here for training the model.<br>\n",
    "as the diagram suggests the ratings will be labelled as which bin it beongs to for the model to train.\n",
    "After training the model the model will predit which label/bin the NEW restaurant belongs to.\n",
    "- ratings between 1-1.4 - labelled as 0\n",
    "- ratings between 1.5-1.9 - labelled as 1\n",
    "- ratings between 2-2.4 - labelled as 2\n",
    "- ratings between 2.5-2.9.4 - labelled as 3\n",
    "- ratings between 3-3.4 - labelled as 4\n",
    "- ratings between 3.5-3.9 - labelled as 5\n",
    "- ratings between 4-4.4 - labelled as 6\n",
    "- ratings between 4.4-5 - labelled as 7\n",
    ">**A new columns rate_color is created to store the labels**.\n",
    "Creating **target** variables and **feature** columns"
   ]
  },
  {
   "cell_type": "code",
   "execution_count": 101,
   "metadata": {},
   "outputs": [
    {
     "data": {
      "text/plain": [
       "0"
      ]
     },
     "execution_count": 101,
     "metadata": {},
     "output_type": "execute_result"
    }
   ],
   "source": [
    "bengaluru_res_df['rate'].isnull().sum()"
   ]
  },
  {
   "cell_type": "code",
   "execution_count": 102,
   "metadata": {},
   "outputs": [],
   "source": [
    "bengaluru_res_df['rate_color'] = bengaluru_res_df.apply(lambda x: target_rates_to_color(x.rate),axis= 1)"
   ]
  },
  {
   "cell_type": "code",
   "execution_count": 103,
   "metadata": {},
   "outputs": [
    {
     "data": {
      "text/plain": [
       "array([6, 5, 7, 4, 3, 2, 1], dtype=int64)"
      ]
     },
     "execution_count": 103,
     "metadata": {},
     "output_type": "execute_result"
    }
   ],
   "source": [
    "bengaluru_res_df['rate_color'].unique()"
   ]
  },
  {
   "cell_type": "code",
   "execution_count": 104,
   "metadata": {},
   "outputs": [],
   "source": [
    "#rate_to_label = {}\n",
    "#label = 0\n",
    "#for i in np.linspace(1,5,41):\n",
    "    #print(round(i,1))\n",
    "    #rate_to_label[np.round(i,1)] = label\n",
    "    #label += 1\n",
    "\n",
    "#bengaluru_res_df['rate'] = bengaluru_res_df.apply(lambda x: rate_to_label[x.rate],axis= 1)"
   ]
  },
  {
   "cell_type": "code",
   "execution_count": 105,
   "metadata": {},
   "outputs": [],
   "source": [
    "#bengaluru_res_df['rate'].unique()"
   ]
  },
  {
   "cell_type": "code",
   "execution_count": 106,
   "metadata": {},
   "outputs": [
    {
     "data": {
      "text/plain": [
       "0    6\n",
       "1    6\n",
       "2    5\n",
       "3    5\n",
       "4    5\n",
       "Name: rate_color, dtype: int64"
      ]
     },
     "execution_count": 106,
     "metadata": {},
     "output_type": "execute_result"
    }
   ],
   "source": [
    "bengaluru_res_df['rate_color'].head()"
   ]
  },
  {
   "cell_type": "code",
   "execution_count": 107,
   "metadata": {},
   "outputs": [],
   "source": [
    "#bengaluru_res_df['rate'].head()"
   ]
  },
  {
   "cell_type": "markdown",
   "metadata": {},
   "source": [
    ">Creating target variables and feature columns"
   ]
  },
  {
   "cell_type": "code",
   "execution_count": 108,
   "metadata": {},
   "outputs": [],
   "source": [
    "target = bengaluru_res_df[['rate','rate_color']]\n",
    "features = bengaluru_res_df.drop(columns = ['rate','rate_color'],axis = 1)"
   ]
  },
  {
   "cell_type": "markdown",
   "metadata": {},
   "source": [
    "<a id='impfea'></a>\n",
    "### 3.3.4 imputing and Feature Scaling"
   ]
  },
  {
   "cell_type": "markdown",
   "metadata": {},
   "source": [
    "Only cost_for_two has 242 missing values out of 41,660. The missing value will be replaced by median. Median is less than the mean. all the other columns are converted to binary hence will have 0 for missing or 1 for present."
   ]
  },
  {
   "cell_type": "code",
   "execution_count": 109,
   "metadata": {},
   "outputs": [
    {
     "name": "stdout",
     "output_type": "stream",
     "text": [
      "(41660, 309)\n"
     ]
    },
    {
     "data": {
      "text/plain": [
       "242"
      ]
     },
     "execution_count": 109,
     "metadata": {},
     "output_type": "execute_result"
    }
   ],
   "source": [
    "print(bengaluru_res_df.shape)\n",
    "bengaluru_res_df['cost_for_two'].isnull().sum()"
   ]
  },
  {
   "cell_type": "code",
   "execution_count": 110,
   "metadata": {},
   "outputs": [
    {
     "data": {
      "text/plain": [
       "500.0"
      ]
     },
     "execution_count": 110,
     "metadata": {},
     "output_type": "execute_result"
    }
   ],
   "source": [
    "bengaluru_res_df['cost_for_two'].median()"
   ]
  },
  {
   "cell_type": "code",
   "execution_count": 111,
   "metadata": {},
   "outputs": [
    {
     "data": {
      "text/plain": [
       "603.2680477087257"
      ]
     },
     "execution_count": 111,
     "metadata": {},
     "output_type": "execute_result"
    }
   ],
   "source": [
    "bengaluru_res_df['cost_for_two'].mean()"
   ]
  },
  {
   "cell_type": "code",
   "execution_count": 112,
   "metadata": {},
   "outputs": [],
   "source": [
    "imp_median = SimpleImputer(missing_values=np.NaN, strategy='median')"
   ]
  },
  {
   "cell_type": "markdown",
   "metadata": {},
   "source": [
    "bengaluru_res_df_imp has no missing values and can be used for training"
   ]
  },
  {
   "cell_type": "code",
   "execution_count": 113,
   "metadata": {},
   "outputs": [],
   "source": [
    "bengaluru_res_df_imp = pd.DataFrame(imp_median.fit_transform(features))"
   ]
  },
  {
   "cell_type": "code",
   "execution_count": 114,
   "metadata": {},
   "outputs": [
    {
     "data": {
      "text/plain": [
       "0"
      ]
     },
     "execution_count": 114,
     "metadata": {},
     "output_type": "execute_result"
    }
   ],
   "source": [
    "bengaluru_res_df_imp.isnull().sum().sum()"
   ]
  },
  {
   "cell_type": "code",
   "execution_count": 115,
   "metadata": {},
   "outputs": [],
   "source": [
    "bengaluru_res_df_imp.columns = features.columns"
   ]
  },
  {
   "cell_type": "code",
   "execution_count": 116,
   "metadata": {},
   "outputs": [
    {
     "data": {
      "text/html": [
       "<div>\n",
       "<style scoped>\n",
       "    .dataframe tbody tr th:only-of-type {\n",
       "        vertical-align: middle;\n",
       "    }\n",
       "\n",
       "    .dataframe tbody tr th {\n",
       "        vertical-align: top;\n",
       "    }\n",
       "\n",
       "    .dataframe thead th {\n",
       "        text-align: right;\n",
       "    }\n",
       "</style>\n",
       "<table border=\"1\" class=\"dataframe\">\n",
       "  <thead>\n",
       "    <tr style=\"text-align: right;\">\n",
       "      <th></th>\n",
       "      <th>phone</th>\n",
       "      <th>cost_for_two</th>\n",
       "      <th>online_order_no</th>\n",
       "      <th>online_order_yes</th>\n",
       "      <th>book_table_no</th>\n",
       "      <th>book_table_yes</th>\n",
       "      <th>listed_in_type_buffet</th>\n",
       "      <th>listed_in_type_cafes</th>\n",
       "      <th>listed_in_type_delivery</th>\n",
       "      <th>listed_in_type_desserts</th>\n",
       "      <th>...</th>\n",
       "      <th>cuisines_1_jewish</th>\n",
       "      <th>cuisines_2_jewish</th>\n",
       "      <th>cuisines_1_vegan</th>\n",
       "      <th>cuisines_2_vegan</th>\n",
       "      <th>cuisines_1_rawmeats</th>\n",
       "      <th>cuisines_2_rawmeats</th>\n",
       "      <th>cuisines_1_malwani</th>\n",
       "      <th>cuisines_2_malwani</th>\n",
       "      <th>cuisines_1_sindhi</th>\n",
       "      <th>cuisines_2_sindhi</th>\n",
       "    </tr>\n",
       "  </thead>\n",
       "  <tbody>\n",
       "    <tr>\n",
       "      <th>0</th>\n",
       "      <td>2.0</td>\n",
       "      <td>800.0</td>\n",
       "      <td>0.0</td>\n",
       "      <td>1.0</td>\n",
       "      <td>0.0</td>\n",
       "      <td>1.0</td>\n",
       "      <td>1.0</td>\n",
       "      <td>0.0</td>\n",
       "      <td>0.0</td>\n",
       "      <td>0.0</td>\n",
       "      <td>...</td>\n",
       "      <td>0.0</td>\n",
       "      <td>0.0</td>\n",
       "      <td>0.0</td>\n",
       "      <td>0.0</td>\n",
       "      <td>0.0</td>\n",
       "      <td>0.0</td>\n",
       "      <td>0.0</td>\n",
       "      <td>0.0</td>\n",
       "      <td>0.0</td>\n",
       "      <td>0.0</td>\n",
       "    </tr>\n",
       "    <tr>\n",
       "      <th>1</th>\n",
       "      <td>1.0</td>\n",
       "      <td>800.0</td>\n",
       "      <td>0.0</td>\n",
       "      <td>1.0</td>\n",
       "      <td>1.0</td>\n",
       "      <td>0.0</td>\n",
       "      <td>1.0</td>\n",
       "      <td>0.0</td>\n",
       "      <td>0.0</td>\n",
       "      <td>0.0</td>\n",
       "      <td>...</td>\n",
       "      <td>0.0</td>\n",
       "      <td>0.0</td>\n",
       "      <td>0.0</td>\n",
       "      <td>0.0</td>\n",
       "      <td>0.0</td>\n",
       "      <td>0.0</td>\n",
       "      <td>0.0</td>\n",
       "      <td>0.0</td>\n",
       "      <td>0.0</td>\n",
       "      <td>0.0</td>\n",
       "    </tr>\n",
       "  </tbody>\n",
       "</table>\n",
       "<p>2 rows × 307 columns</p>\n",
       "</div>"
      ],
      "text/plain": [
       "   phone  cost_for_two  online_order_no  online_order_yes  book_table_no  \\\n",
       "0    2.0         800.0              0.0               1.0            0.0   \n",
       "1    1.0         800.0              0.0               1.0            1.0   \n",
       "\n",
       "   book_table_yes  listed_in_type_buffet  listed_in_type_cafes  \\\n",
       "0             1.0                    1.0                   0.0   \n",
       "1             0.0                    1.0                   0.0   \n",
       "\n",
       "   listed_in_type_delivery  listed_in_type_desserts  ...  cuisines_1_jewish  \\\n",
       "0                      0.0                      0.0  ...                0.0   \n",
       "1                      0.0                      0.0  ...                0.0   \n",
       "\n",
       "   cuisines_2_jewish  cuisines_1_vegan  cuisines_2_vegan  cuisines_1_rawmeats  \\\n",
       "0                0.0               0.0               0.0                  0.0   \n",
       "1                0.0               0.0               0.0                  0.0   \n",
       "\n",
       "   cuisines_2_rawmeats  cuisines_1_malwani  cuisines_2_malwani  \\\n",
       "0                  0.0                 0.0                 0.0   \n",
       "1                  0.0                 0.0                 0.0   \n",
       "\n",
       "   cuisines_1_sindhi  cuisines_2_sindhi  \n",
       "0                0.0                0.0  \n",
       "1                0.0                0.0  \n",
       "\n",
       "[2 rows x 307 columns]"
      ]
     },
     "execution_count": 116,
     "metadata": {},
     "output_type": "execute_result"
    }
   ],
   "source": [
    "bengaluru_res_df_imp.head(2)"
   ]
  },
  {
   "cell_type": "markdown",
   "metadata": {},
   "source": [
    "For this project most of the columns are binary, to preserve there value, I am going to using MinMax Scaller\n",
    "\n",
    "$$x_new = \\frac{x - x_min}{x_max - x_min} $$\n",
    "\n",
    "$$x_max = maximum \\ value \\ in \\ space \\ the \\ space \\ column$$\n",
    "$$x_min = minimum \\ value \\ in \\ space \\ the \\ space \\ column$$"
   ]
  },
  {
   "cell_type": "code",
   "execution_count": 117,
   "metadata": {},
   "outputs": [
    {
     "data": {
      "text/html": [
       "<div>\n",
       "<style scoped>\n",
       "    .dataframe tbody tr th:only-of-type {\n",
       "        vertical-align: middle;\n",
       "    }\n",
       "\n",
       "    .dataframe tbody tr th {\n",
       "        vertical-align: top;\n",
       "    }\n",
       "\n",
       "    .dataframe thead th {\n",
       "        text-align: right;\n",
       "    }\n",
       "</style>\n",
       "<table border=\"1\" class=\"dataframe\">\n",
       "  <thead>\n",
       "    <tr style=\"text-align: right;\">\n",
       "      <th></th>\n",
       "      <th>phone</th>\n",
       "      <th>cost_for_two</th>\n",
       "      <th>online_order_no</th>\n",
       "      <th>online_order_yes</th>\n",
       "      <th>book_table_no</th>\n",
       "      <th>book_table_yes</th>\n",
       "      <th>listed_in_type_buffet</th>\n",
       "      <th>listed_in_type_cafes</th>\n",
       "      <th>listed_in_type_delivery</th>\n",
       "      <th>listed_in_type_desserts</th>\n",
       "      <th>...</th>\n",
       "      <th>cuisines_1_jewish</th>\n",
       "      <th>cuisines_2_jewish</th>\n",
       "      <th>cuisines_1_vegan</th>\n",
       "      <th>cuisines_2_vegan</th>\n",
       "      <th>cuisines_1_rawmeats</th>\n",
       "      <th>cuisines_2_rawmeats</th>\n",
       "      <th>cuisines_1_malwani</th>\n",
       "      <th>cuisines_2_malwani</th>\n",
       "      <th>cuisines_1_sindhi</th>\n",
       "      <th>cuisines_2_sindhi</th>\n",
       "    </tr>\n",
       "  </thead>\n",
       "  <tbody>\n",
       "    <tr>\n",
       "      <th>0</th>\n",
       "      <td>1.0</td>\n",
       "      <td>0.127517</td>\n",
       "      <td>0.0</td>\n",
       "      <td>1.0</td>\n",
       "      <td>0.0</td>\n",
       "      <td>1.0</td>\n",
       "      <td>1.0</td>\n",
       "      <td>0.0</td>\n",
       "      <td>0.0</td>\n",
       "      <td>0.0</td>\n",
       "      <td>...</td>\n",
       "      <td>0.0</td>\n",
       "      <td>0.0</td>\n",
       "      <td>0.0</td>\n",
       "      <td>0.0</td>\n",
       "      <td>0.0</td>\n",
       "      <td>0.0</td>\n",
       "      <td>0.0</td>\n",
       "      <td>0.0</td>\n",
       "      <td>0.0</td>\n",
       "      <td>0.0</td>\n",
       "    </tr>\n",
       "    <tr>\n",
       "      <th>1</th>\n",
       "      <td>0.5</td>\n",
       "      <td>0.127517</td>\n",
       "      <td>0.0</td>\n",
       "      <td>1.0</td>\n",
       "      <td>1.0</td>\n",
       "      <td>0.0</td>\n",
       "      <td>1.0</td>\n",
       "      <td>0.0</td>\n",
       "      <td>0.0</td>\n",
       "      <td>0.0</td>\n",
       "      <td>...</td>\n",
       "      <td>0.0</td>\n",
       "      <td>0.0</td>\n",
       "      <td>0.0</td>\n",
       "      <td>0.0</td>\n",
       "      <td>0.0</td>\n",
       "      <td>0.0</td>\n",
       "      <td>0.0</td>\n",
       "      <td>0.0</td>\n",
       "      <td>0.0</td>\n",
       "      <td>0.0</td>\n",
       "    </tr>\n",
       "  </tbody>\n",
       "</table>\n",
       "<p>2 rows × 307 columns</p>\n",
       "</div>"
      ],
      "text/plain": [
       "   phone  cost_for_two  online_order_no  online_order_yes  book_table_no  \\\n",
       "0    1.0      0.127517              0.0               1.0            0.0   \n",
       "1    0.5      0.127517              0.0               1.0            1.0   \n",
       "\n",
       "   book_table_yes  listed_in_type_buffet  listed_in_type_cafes  \\\n",
       "0             1.0                    1.0                   0.0   \n",
       "1             0.0                    1.0                   0.0   \n",
       "\n",
       "   listed_in_type_delivery  listed_in_type_desserts  ...  cuisines_1_jewish  \\\n",
       "0                      0.0                      0.0  ...                0.0   \n",
       "1                      0.0                      0.0  ...                0.0   \n",
       "\n",
       "   cuisines_2_jewish  cuisines_1_vegan  cuisines_2_vegan  cuisines_1_rawmeats  \\\n",
       "0                0.0               0.0               0.0                  0.0   \n",
       "1                0.0               0.0               0.0                  0.0   \n",
       "\n",
       "   cuisines_2_rawmeats  cuisines_1_malwani  cuisines_2_malwani  \\\n",
       "0                  0.0                 0.0                 0.0   \n",
       "1                  0.0                 0.0                 0.0   \n",
       "\n",
       "   cuisines_1_sindhi  cuisines_2_sindhi  \n",
       "0                0.0                0.0  \n",
       "1                0.0                0.0  \n",
       "\n",
       "[2 rows x 307 columns]"
      ]
     },
     "execution_count": 117,
     "metadata": {},
     "output_type": "execute_result"
    }
   ],
   "source": [
    "scaler = MinMaxScaler()\n",
    "bengaluru_res_df_sca = pd.DataFrame(scaler.fit_transform(bengaluru_res_df_imp))\n",
    "bengaluru_res_df_sca.columns = bengaluru_res_df_imp.columns\n",
    "bengaluru_res_df_sca.head(2)"
   ]
  },
  {
   "cell_type": "markdown",
   "metadata": {},
   "source": [
    "<a id='traintest'></a>\n",
    "### 3.5 Training and Test "
   ]
  },
  {
   "cell_type": "markdown",
   "metadata": {},
   "source": [
    ">There are 41660 restaurants for training 95% of the data is used. Since there are alot of rows only **5% of the data is reserved for testing** the benchmarck model and optimized Neural network model"
   ]
  },
  {
   "cell_type": "code",
   "execution_count": 118,
   "metadata": {},
   "outputs": [],
   "source": [
    "X_train, X_test, y_train, y_test = train_test_split(bengaluru_res_df_sca, target,test_size=0.05, random_state=42)"
   ]
  },
  {
   "cell_type": "markdown",
   "metadata": {},
   "source": [
    "<a id='benchmark'></a>\n",
    "## 4. Training and testing Bench mark model"
   ]
  },
  {
   "cell_type": "markdown",
   "metadata": {},
   "source": [
    "from sklearn linear model LinearRegression is used for training the becch mark model. Linear model is underfitting because it is assuming the problem is linear and that the prediction follows a linear equation. \n",
    "The Aim of this is to form a threshold for the final optimised model which should work better than the linear model.\n",
    "$$\\bar y = Wx + b $$<br>\n",
    "$$ W = [W_1, W_2, W_3,...,W_n] $$\n",
    "$$ x = [x_1, x_2, x_3,...,x_n] $$\n",
    "<br>\n",
    "**Accuracy score:** is the metric used which calculates the catergory correctly predicted by the model<br>\n",
    "$$ Accuracy = \\frac{ Correctly \\ predicted \\ Class}{Total \\ Number \\ of \\ Predictions}  $$"
   ]
  },
  {
   "cell_type": "code",
   "execution_count": 119,
   "metadata": {},
   "outputs": [],
   "source": [
    "LR = LinearRegression()"
   ]
  },
  {
   "cell_type": "code",
   "execution_count": 120,
   "metadata": {},
   "outputs": [
    {
     "data": {
      "text/plain": [
       "LinearRegression(copy_X=True, fit_intercept=True, n_jobs=None, normalize=False)"
      ]
     },
     "execution_count": 120,
     "metadata": {},
     "output_type": "execute_result"
    }
   ],
   "source": [
    "LR.fit(X_train, y_train['rate_color'])"
   ]
  },
  {
   "cell_type": "code",
   "execution_count": 121,
   "metadata": {},
   "outputs": [],
   "source": [
    "y_hat = np.round(LR.predict(X_test))"
   ]
  },
  {
   "cell_type": "code",
   "execution_count": 122,
   "metadata": {},
   "outputs": [
    {
     "data": {
      "text/plain": [
       "(2083,)"
      ]
     },
     "execution_count": 122,
     "metadata": {},
     "output_type": "execute_result"
    }
   ],
   "source": [
    "y_test['rate_color'].shape"
   ]
  },
  {
   "cell_type": "code",
   "execution_count": 123,
   "metadata": {},
   "outputs": [
    {
     "data": {
      "text/plain": [
       "(2083,)"
      ]
     },
     "execution_count": 123,
     "metadata": {},
     "output_type": "execute_result"
    }
   ],
   "source": [
    "y_hat.shape"
   ]
  },
  {
   "cell_type": "code",
   "execution_count": 124,
   "metadata": {},
   "outputs": [],
   "source": [
    "score = metrics.accuracy_score(y_test['rate_color'], y_hat)"
   ]
  },
  {
   "cell_type": "code",
   "execution_count": 125,
   "metadata": {},
   "outputs": [
    {
     "data": {
      "text/plain": [
       "0.5477676428228516"
      ]
     },
     "execution_count": 125,
     "metadata": {},
     "output_type": "execute_result"
    }
   ],
   "source": [
    "score"
   ]
  },
  {
   "cell_type": "code",
   "execution_count": 126,
   "metadata": {},
   "outputs": [
    {
     "data": {
      "text/plain": [
       "array([5., 4., 5., ..., 5., 5., 6.])"
      ]
     },
     "execution_count": 126,
     "metadata": {},
     "output_type": "execute_result"
    }
   ],
   "source": [
    "y_hat"
   ]
  },
  {
   "cell_type": "markdown",
   "metadata": {},
   "source": [
    "> **Accuracy Score of the Linear model is 54.78%**"
   ]
  },
  {
   "cell_type": "markdown",
   "metadata": {},
   "source": [
    "<a id='nn'></a>\n",
    "## 5. NN Model \n",
    "\n",
    "**The Model is a Neural network with 307 inputs and 3 hidden layers and 8 categories/bins: **\n",
    "\n",
    "- The neural Network Architechture is created using torch nn module, which has 8 output. Log_softmax is performed to get the label.\n",
    "- nn.dropout(.02) is used so that the network does not over fit.\n",
    "- nn.NLLLoss is used to calcuate the loss. since the output is a softmax which is in the form of exponential, Natural Log loss will be best to get the loss\n",
    "- loss.backward() performs the backward pass\n",
    "- optimizer.step() updates the new weight\n",
    "- optimizer.zero_grad() sets the grdient to zero for next backword propagation\n",
    "- model.eval() freezes the gradient and removes the dropout for evaluation/validation during training\n",
    "\n",
    "**Minibatch:** - defined in train.py<br>\n",
    "src:https://stackoverflow.com/questions/38157972/how-to-implement-mini-batch-gradient-descent-in-python<br>\n",
    "src:https://stackoverflow.com/questions/50307707/convert-pandas-dataframe-to-pytorch-tensor<br>\n",
    "- there are 39,577 rows for each epoch 4 mini batches are randomly created out of which 3 mini batches are used for training and 1 mini batch is used for validation \n",
    "\n",
    "**Parameter tuning for the model:**\n",
    "-\tEpochs\n",
    "-\tLearning rate\n",
    "-\tMini Batch size\n",
    "-\tNumber of Hidden layers\n",
    "-\tNumber of Hidden nodes\n",
    "<br>\n",
    "<br>\n",
    "**NN Architecture**\n",
    "<br>\n",
    "<img src = \"images/Nn.png\">\n",
    "\n",
    "The model is created and trained using **train.py**"
   ]
  },
  {
   "cell_type": "code",
   "execution_count": 127,
   "metadata": {},
   "outputs": [
    {
     "name": "stdout",
     "output_type": "stream",
     "text": [
      "Epoch: 2/450..  Training Loss: 1.422..  validation Loss: 1.379..  validation Accuracy: 0.515\n",
      "Epoch: 7/450..  Training Loss: 1.135..  validation Loss: 1.106..  validation Accuracy: 0.543\n",
      "Epoch: 12/450..  Training Loss: 1.064..  validation Loss: 1.047..  validation Accuracy: 0.556\n",
      "Epoch: 17/450..  Training Loss: 0.996..  validation Loss: 0.997..  validation Accuracy: 0.575\n",
      "Epoch: 22/450..  Training Loss: 0.929..  validation Loss: 0.903..  validation Accuracy: 0.617\n",
      "Epoch: 27/450..  Training Loss: 0.865..  validation Loss: 0.848..  validation Accuracy: 0.647\n",
      "Epoch: 32/450..  Training Loss: 0.817..  validation Loss: 0.770..  validation Accuracy: 0.683\n",
      "Epoch: 37/450..  Training Loss: 0.780..  validation Loss: 0.725..  validation Accuracy: 0.704\n",
      "Epoch: 42/450..  Training Loss: 0.740..  validation Loss: 0.687..  validation Accuracy: 0.719\n",
      "Epoch: 47/450..  Training Loss: 0.710..  validation Loss: 0.656..  validation Accuracy: 0.733\n",
      "Epoch: 52/450..  Training Loss: 0.682..  validation Loss: 0.639..  validation Accuracy: 0.743\n",
      "Epoch: 57/450..  Training Loss: 0.667..  validation Loss: 0.594..  validation Accuracy: 0.759\n",
      "Epoch: 62/450..  Training Loss: 0.648..  validation Loss: 0.571..  validation Accuracy: 0.766\n",
      "Epoch: 67/450..  Training Loss: 0.629..  validation Loss: 0.565..  validation Accuracy: 0.770\n",
      "Epoch: 72/450..  Training Loss: 0.613..  validation Loss: 0.541..  validation Accuracy: 0.780\n",
      "Epoch: 77/450..  Training Loss: 0.604..  validation Loss: 0.513..  validation Accuracy: 0.792\n",
      "Epoch: 82/450..  Training Loss: 0.588..  validation Loss: 0.504..  validation Accuracy: 0.792\n",
      "Epoch: 87/450..  Training Loss: 0.579..  validation Loss: 0.496..  validation Accuracy: 0.801\n",
      "Epoch: 92/450..  Training Loss: 0.568..  validation Loss: 0.488..  validation Accuracy: 0.798\n",
      "Epoch: 97/450..  Training Loss: 0.557..  validation Loss: 0.479..  validation Accuracy: 0.805\n",
      "Epoch: 102/450..  Training Loss: 0.549..  validation Loss: 0.461..  validation Accuracy: 0.806\n",
      "Epoch: 107/450..  Training Loss: 0.536..  validation Loss: 0.467..  validation Accuracy: 0.809\n",
      "Epoch: 112/450..  Training Loss: 0.527..  validation Loss: 0.455..  validation Accuracy: 0.809\n",
      "Epoch: 117/450..  Training Loss: 0.527..  validation Loss: 0.447..  validation Accuracy: 0.815\n",
      "Epoch: 122/450..  Training Loss: 0.516..  validation Loss: 0.447..  validation Accuracy: 0.811\n",
      "Epoch: 127/450..  Training Loss: 0.514..  validation Loss: 0.437..  validation Accuracy: 0.813\n",
      "Epoch: 132/450..  Training Loss: 0.506..  validation Loss: 0.442..  validation Accuracy: 0.810\n",
      "Epoch: 137/450..  Training Loss: 0.496..  validation Loss: 0.429..  validation Accuracy: 0.814\n",
      "Epoch: 142/450..  Training Loss: 0.494..  validation Loss: 0.418..  validation Accuracy: 0.826\n",
      "Epoch: 147/450..  Training Loss: 0.491..  validation Loss: 0.419..  validation Accuracy: 0.825\n",
      "Epoch: 152/450..  Training Loss: 0.487..  validation Loss: 0.403..  validation Accuracy: 0.832\n",
      "Epoch: 157/450..  Training Loss: 0.479..  validation Loss: 0.402..  validation Accuracy: 0.826\n",
      "Epoch: 162/450..  Training Loss: 0.477..  validation Loss: 0.392..  validation Accuracy: 0.833\n",
      "Epoch: 167/450..  Training Loss: 0.472..  validation Loss: 0.404..  validation Accuracy: 0.828\n",
      "Epoch: 172/450..  Training Loss: 0.476..  validation Loss: 0.382..  validation Accuracy: 0.839\n",
      "Epoch: 177/450..  Training Loss: 0.466..  validation Loss: 0.386..  validation Accuracy: 0.840\n",
      "Epoch: 182/450..  Training Loss: 0.467..  validation Loss: 0.386..  validation Accuracy: 0.834\n",
      "Epoch: 187/450..  Training Loss: 0.461..  validation Loss: 0.378..  validation Accuracy: 0.840\n",
      "Epoch: 192/450..  Training Loss: 0.461..  validation Loss: 0.375..  validation Accuracy: 0.843\n",
      "Epoch: 197/450..  Training Loss: 0.452..  validation Loss: 0.378..  validation Accuracy: 0.840\n",
      "Epoch: 202/450..  Training Loss: 0.456..  validation Loss: 0.365..  validation Accuracy: 0.843\n",
      "Epoch: 207/450..  Training Loss: 0.450..  validation Loss: 0.372..  validation Accuracy: 0.845\n",
      "Epoch: 212/450..  Training Loss: 0.437..  validation Loss: 0.375..  validation Accuracy: 0.840\n",
      "Epoch: 217/450..  Training Loss: 0.440..  validation Loss: 0.364..  validation Accuracy: 0.843\n",
      "Epoch: 222/450..  Training Loss: 0.442..  validation Loss: 0.362..  validation Accuracy: 0.845\n",
      "Epoch: 227/450..  Training Loss: 0.439..  validation Loss: 0.355..  validation Accuracy: 0.850\n",
      "Epoch: 232/450..  Training Loss: 0.432..  validation Loss: 0.347..  validation Accuracy: 0.850\n",
      "Epoch: 237/450..  Training Loss: 0.428..  validation Loss: 0.349..  validation Accuracy: 0.849\n",
      "Epoch: 242/450..  Training Loss: 0.429..  validation Loss: 0.343..  validation Accuracy: 0.855\n",
      "Epoch: 247/450..  Training Loss: 0.426..  validation Loss: 0.348..  validation Accuracy: 0.855\n",
      "Epoch: 252/450..  Training Loss: 0.418..  validation Loss: 0.353..  validation Accuracy: 0.851\n",
      "Epoch: 257/450..  Training Loss: 0.418..  validation Loss: 0.344..  validation Accuracy: 0.856\n",
      "Epoch: 262/450..  Training Loss: 0.417..  validation Loss: 0.338..  validation Accuracy: 0.856\n",
      "Epoch: 267/450..  Training Loss: 0.420..  validation Loss: 0.331..  validation Accuracy: 0.857\n",
      "Epoch: 272/450..  Training Loss: 0.411..  validation Loss: 0.338..  validation Accuracy: 0.856\n",
      "Epoch: 277/450..  Training Loss: 0.410..  validation Loss: 0.328..  validation Accuracy: 0.861\n",
      "Epoch: 282/450..  Training Loss: 0.408..  validation Loss: 0.331..  validation Accuracy: 0.854\n",
      "Epoch: 287/450..  Training Loss: 0.404..  validation Loss: 0.323..  validation Accuracy: 0.866\n",
      "Epoch: 292/450..  Training Loss: 0.401..  validation Loss: 0.337..  validation Accuracy: 0.852\n",
      "Epoch: 297/450..  Training Loss: 0.407..  validation Loss: 0.321..  validation Accuracy: 0.861\n",
      "Epoch: 302/450..  Training Loss: 0.396..  validation Loss: 0.324..  validation Accuracy: 0.860\n",
      "Epoch: 307/450..  Training Loss: 0.397..  validation Loss: 0.324..  validation Accuracy: 0.861\n",
      "Epoch: 312/450..  Training Loss: 0.399..  validation Loss: 0.314..  validation Accuracy: 0.867\n",
      "Epoch: 317/450..  Training Loss: 0.394..  validation Loss: 0.312..  validation Accuracy: 0.864\n",
      "Epoch: 322/450..  Training Loss: 0.391..  validation Loss: 0.315..  validation Accuracy: 0.862\n",
      "Epoch: 327/450..  Training Loss: 0.391..  validation Loss: 0.310..  validation Accuracy: 0.868\n",
      "Epoch: 332/450..  Training Loss: 0.387..  validation Loss: 0.305..  validation Accuracy: 0.871\n",
      "Epoch: 337/450..  Training Loss: 0.384..  validation Loss: 0.306..  validation Accuracy: 0.868\n",
      "Epoch: 342/450..  Training Loss: 0.381..  validation Loss: 0.310..  validation Accuracy: 0.867\n",
      "Epoch: 347/450..  Training Loss: 0.382..  validation Loss: 0.307..  validation Accuracy: 0.868\n",
      "Epoch: 352/450..  Training Loss: 0.381..  validation Loss: 0.306..  validation Accuracy: 0.870\n",
      "Epoch: 357/450..  Training Loss: 0.379..  validation Loss: 0.295..  validation Accuracy: 0.871\n",
      "Epoch: 362/450..  Training Loss: 0.376..  validation Loss: 0.299..  validation Accuracy: 0.873\n",
      "Epoch: 367/450..  Training Loss: 0.373..  validation Loss: 0.302..  validation Accuracy: 0.871\n",
      "Epoch: 372/450..  Training Loss: 0.376..  validation Loss: 0.287..  validation Accuracy: 0.878\n",
      "Epoch: 377/450..  Training Loss: 0.374..  validation Loss: 0.294..  validation Accuracy: 0.870\n",
      "Epoch: 382/450..  Training Loss: 0.375..  validation Loss: 0.288..  validation Accuracy: 0.873\n",
      "Epoch: 387/450..  Training Loss: 0.372..  validation Loss: 0.294..  validation Accuracy: 0.872\n",
      "Epoch: 392/450..  Training Loss: 0.363..  validation Loss: 0.298..  validation Accuracy: 0.870\n",
      "Epoch: 397/450..  Training Loss: 0.364..  validation Loss: 0.289..  validation Accuracy: 0.874\n",
      "Epoch: 402/450..  Training Loss: 0.365..  validation Loss: 0.278..  validation Accuracy: 0.883\n",
      "Epoch: 407/450..  Training Loss: 0.364..  validation Loss: 0.284..  validation Accuracy: 0.877\n",
      "Epoch: 412/450..  Training Loss: 0.364..  validation Loss: 0.288..  validation Accuracy: 0.878\n",
      "Epoch: 417/450..  Training Loss: 0.360..  validation Loss: 0.285..  validation Accuracy: 0.876\n",
      "Epoch: 422/450..  Training Loss: 0.357..  validation Loss: 0.286..  validation Accuracy: 0.877\n",
      "Epoch: 427/450..  Training Loss: 0.357..  validation Loss: 0.281..  validation Accuracy: 0.881\n"
     ]
    },
    {
     "name": "stdout",
     "output_type": "stream",
     "text": [
      "Epoch: 432/450..  Training Loss: 0.354..  validation Loss: 0.281..  validation Accuracy: 0.878\n",
      "Epoch: 437/450..  Training Loss: 0.353..  validation Loss: 0.284..  validation Accuracy: 0.875\n",
      "Epoch: 442/450..  Training Loss: 0.359..  validation Loss: 0.274..  validation Accuracy: 0.880\n",
      "Epoch: 447/450..  Training Loss: 0.354..  validation Loss: 0.274..  validation Accuracy: 0.882\n"
     ]
    },
    {
     "data": {
      "image/png": "[encoded data removed]",
      "text/plain": [
       "<Figure size 432x288 with 1 Axes>"
      ]
     },
     "metadata": {},
     "output_type": "display_data"
    }
   ],
   "source": [
    "model = tr.create_train_model(X_train,y_train)"
   ]
  },
  {
   "cell_type": "markdown",
   "metadata": {},
   "source": [
    "### Testing accuracy of the optimized model on test set"
   ]
  },
  {
   "cell_type": "code",
   "execution_count": 128,
   "metadata": {},
   "outputs": [],
   "source": [
    "#converting the X_test into tensor type\n",
    "X_test_t = torch.tensor(X_test.values).type(torch.float)"
   ]
  },
  {
   "cell_type": "code",
   "execution_count": 129,
   "metadata": {},
   "outputs": [],
   "source": [
    "#Predicting for X_test\n",
    "with torch.no_grad():\n",
    "    model.eval()\n",
    "    prediction = model(X_test_t)"
   ]
  },
  {
   "cell_type": "code",
   "execution_count": 130,
   "metadata": {},
   "outputs": [
    {
     "data": {
      "text/plain": [
       "torch.Size([2083, 8])"
      ]
     },
     "execution_count": 130,
     "metadata": {},
     "output_type": "execute_result"
    }
   ],
   "source": [
    "ps = torch.exp(prediction)\n",
    "ps.shape"
   ]
  },
  {
   "cell_type": "code",
   "execution_count": 131,
   "metadata": {},
   "outputs": [],
   "source": [
    "top_p, top_class = ps.topk(1, dim=1)"
   ]
  },
  {
   "cell_type": "code",
   "execution_count": 132,
   "metadata": {},
   "outputs": [],
   "source": [
    "#converting tensor type to Series\n",
    "top_class = pd.Series(top_class.numpy().ravel())"
   ]
  },
  {
   "cell_type": "code",
   "execution_count": 133,
   "metadata": {},
   "outputs": [],
   "source": [
    "# calculating the score\n",
    "score = metrics.accuracy_score(y_test['rate_color'], top_class)"
   ]
  },
  {
   "cell_type": "code",
   "execution_count": 134,
   "metadata": {},
   "outputs": [
    {
     "data": {
      "text/plain": [
       "0.7849255880940951"
      ]
     },
     "execution_count": 134,
     "metadata": {},
     "output_type": "execute_result"
    }
   ],
   "source": [
    "score"
   ]
  },
  {
   "cell_type": "markdown",
   "metadata": {},
   "source": [
    "The accuracy score for the optimzed model is 76.33% "
   ]
  },
  {
   "cell_type": "markdown",
   "metadata": {},
   "source": [
    "<a id='predict'></a>\n",
    "## 6. Predicitng Color Bin for New Restaurant\n",
    "\n",
    "- **bengaluru_res_df_new dataframe containing information for the New restaurants** needs to be preocessed similarly as bengaluru_res_df to get 307 columns. \n",
    "- The total number of rows is for predicting is 2208.\n",
    "- the **min max scaler** is perfomed manually by passing the minimum and maximum of phone and cost_for_two in a list.phone_min_max = [0,2]  cost_min_max = [40,6000]\n",
    "- **pr.process()**  - perform preprocessing on the New restaurant data to get the 307 columns in the same order as order used for trainning\n",
    "- **pr.predict()** - Performs prediction and returns top 3 classes in with probabilty showed in form of bar graph"
   ]
  },
  {
   "cell_type": "code",
   "execution_count": 135,
   "metadata": {},
   "outputs": [
    {
     "data": {
      "text/html": [
       "<div>\n",
       "<style scoped>\n",
       "    .dataframe tbody tr th:only-of-type {\n",
       "        vertical-align: middle;\n",
       "    }\n",
       "\n",
       "    .dataframe tbody tr th {\n",
       "        vertical-align: top;\n",
       "    }\n",
       "\n",
       "    .dataframe thead th {\n",
       "        text-align: right;\n",
       "    }\n",
       "</style>\n",
       "<table border=\"1\" class=\"dataframe\">\n",
       "  <thead>\n",
       "    <tr style=\"text-align: right;\">\n",
       "      <th></th>\n",
       "      <th>online_order</th>\n",
       "      <th>book_table</th>\n",
       "      <th>rate</th>\n",
       "      <th>phone</th>\n",
       "      <th>location</th>\n",
       "      <th>rest_type</th>\n",
       "      <th>cuisines</th>\n",
       "      <th>cost_for_two</th>\n",
       "      <th>listed_in_type</th>\n",
       "      <th>listed_in_city</th>\n",
       "    </tr>\n",
       "  </thead>\n",
       "  <tbody>\n",
       "    <tr>\n",
       "      <th>72</th>\n",
       "      <td>No</td>\n",
       "      <td>No</td>\n",
       "      <td>NEW</td>\n",
       "      <td>+91 8050884222</td>\n",
       "      <td>Banashankari</td>\n",
       "      <td>Quick Bites</td>\n",
       "      <td>North Indian</td>\n",
       "      <td>150</td>\n",
       "      <td>Delivery</td>\n",
       "      <td>Banashankari</td>\n",
       "    </tr>\n",
       "    <tr>\n",
       "      <th>75</th>\n",
       "      <td>No</td>\n",
       "      <td>No</td>\n",
       "      <td>NEW</td>\n",
       "      <td>+91 8553206035</td>\n",
       "      <td>Banashankari</td>\n",
       "      <td>Takeaway, Delivery</td>\n",
       "      <td>Street Food, Fast Food</td>\n",
       "      <td>500</td>\n",
       "      <td>Delivery</td>\n",
       "      <td>Banashankari</td>\n",
       "    </tr>\n",
       "  </tbody>\n",
       "</table>\n",
       "</div>"
      ],
      "text/plain": [
       "   online_order book_table rate           phone      location  \\\n",
       "72           No         No  NEW  +91 8050884222  Banashankari   \n",
       "75           No         No  NEW  +91 8553206035  Banashankari   \n",
       "\n",
       "             rest_type                cuisines cost_for_two listed_in_type  \\\n",
       "72         Quick Bites            North Indian          150       Delivery   \n",
       "75  Takeaway, Delivery  Street Food, Fast Food          500       Delivery   \n",
       "\n",
       "   listed_in_city  \n",
       "72   Banashankari  \n",
       "75   Banashankari  "
      ]
     },
     "execution_count": 135,
     "metadata": {},
     "output_type": "execute_result"
    }
   ],
   "source": [
    "#Printing the first two rows of the dataframe \n",
    "bengaluru_res_df_new.head(2)"
   ]
  },
  {
   "cell_type": "code",
   "execution_count": 136,
   "metadata": {},
   "outputs": [
    {
     "data": {
      "text/plain": [
       "(2208, 10)"
      ]
     },
     "execution_count": 136,
     "metadata": {},
     "output_type": "execute_result"
    }
   ],
   "source": [
    "#printing rows and columns\n",
    "bengaluru_res_df_new.shape"
   ]
  },
  {
   "cell_type": "markdown",
   "metadata": {},
   "source": [
    "<a href = \"#describe\">describe</a>"
   ]
  },
  {
   "cell_type": "code",
   "execution_count": 137,
   "metadata": {},
   "outputs": [],
   "source": [
    "#putting the max and min of phone and cost_for_two to scale the \n",
    "#min max filled using the describe()\n",
    "phone_min_max = [0,2]\n",
    "cost_min_max = [40,6000]"
   ]
  },
  {
   "cell_type": "code",
   "execution_count": 138,
   "metadata": {},
   "outputs": [],
   "source": [
    "bengaluru_res_df_new_p = bengaluru_res_df_new.copy()"
   ]
  },
  {
   "cell_type": "code",
   "execution_count": 139,
   "metadata": {},
   "outputs": [],
   "source": [
    "X_predict = pr.process(bengaluru_res_df_new_p,listed_rest_types,listed_rest_city_loc,unique_rest,unique_cuisines,phone_min_max,cost_min_max)"
   ]
  },
  {
   "cell_type": "markdown",
   "metadata": {},
   "source": [
    ">** Prints if all the columns names and orders are same after processing the dataframe containng the NEW data set**\n",
    "\n",
    "**Checking if the columns of for X_test and X_predict have the same number of columns which are equally ordered and have the same name**<br> prints True if matches the criteria else false"
   ]
  },
  {
   "cell_type": "code",
   "execution_count": 140,
   "metadata": {},
   "outputs": [
    {
     "name": "stdout",
     "output_type": "stream",
     "text": [
      "True\n"
     ]
    }
   ],
   "source": [
    "#check if the X_predict is processed correctly\n",
    "print((X_test.columns.values == X_predict.columns.values).sum() == 307)"
   ]
  },
  {
   "cell_type": "markdown",
   "metadata": {},
   "source": [
    "#### The index_ is used to do the prediction for index n in bengaluru_res_df_new dataframe containing the restaurant detail for the NEW one.<br>\n",
    "From below we can see the selected restaurant at index_ and its processed form in the next code line\n",
    "\n",
    "### Please change the index_ below to see results for other restaurants"
   ]
  },
  {
   "cell_type": "code",
   "execution_count": 141,
   "metadata": {},
   "outputs": [
    {
     "data": {
      "text/html": [
       "<div>\n",
       "<style scoped>\n",
       "    .dataframe tbody tr th:only-of-type {\n",
       "        vertical-align: middle;\n",
       "    }\n",
       "\n",
       "    .dataframe tbody tr th {\n",
       "        vertical-align: top;\n",
       "    }\n",
       "\n",
       "    .dataframe thead th {\n",
       "        text-align: right;\n",
       "    }\n",
       "</style>\n",
       "<table border=\"1\" class=\"dataframe\">\n",
       "  <thead>\n",
       "    <tr style=\"text-align: right;\">\n",
       "      <th></th>\n",
       "      <th>online_order</th>\n",
       "      <th>book_table</th>\n",
       "      <th>rate</th>\n",
       "      <th>phone</th>\n",
       "      <th>location</th>\n",
       "      <th>rest_type</th>\n",
       "      <th>cuisines</th>\n",
       "      <th>cost_for_two</th>\n",
       "      <th>listed_in_type</th>\n",
       "      <th>listed_in_city</th>\n",
       "    </tr>\n",
       "  </thead>\n",
       "  <tbody>\n",
       "    <tr>\n",
       "      <th>48206</th>\n",
       "      <td>Yes</td>\n",
       "      <td>No</td>\n",
       "      <td>NEW</td>\n",
       "      <td>+91 8043774001</td>\n",
       "      <td>MG Road</td>\n",
       "      <td>Casual Dining</td>\n",
       "      <td>Biryani, Chinese, North Indian, South Indian</td>\n",
       "      <td>800</td>\n",
       "      <td>Dine-out</td>\n",
       "      <td>Residency Road</td>\n",
       "    </tr>\n",
       "  </tbody>\n",
       "</table>\n",
       "</div>"
      ],
      "text/plain": [
       "      online_order book_table rate           phone location      rest_type  \\\n",
       "48206          Yes         No  NEW  +91 8043774001  MG Road  Casual Dining   \n",
       "\n",
       "                                           cuisines cost_for_two  \\\n",
       "48206  Biryani, Chinese, North Indian, South Indian          800   \n",
       "\n",
       "      listed_in_type  listed_in_city  \n",
       "48206       Dine-out  Residency Road  "
      ]
     },
     "execution_count": 141,
     "metadata": {},
     "output_type": "execute_result"
    }
   ],
   "source": [
    "#Predict bin for index \n",
    "index_ = 2110\n",
    "bengaluru_res_df_new[index_:index_+1]"
   ]
  },
  {
   "cell_type": "code",
   "execution_count": 142,
   "metadata": {},
   "outputs": [
    {
     "data": {
      "text/html": [
       "<div>\n",
       "<style scoped>\n",
       "    .dataframe tbody tr th:only-of-type {\n",
       "        vertical-align: middle;\n",
       "    }\n",
       "\n",
       "    .dataframe tbody tr th {\n",
       "        vertical-align: top;\n",
       "    }\n",
       "\n",
       "    .dataframe thead th {\n",
       "        text-align: right;\n",
       "    }\n",
       "</style>\n",
       "<table border=\"1\" class=\"dataframe\">\n",
       "  <thead>\n",
       "    <tr style=\"text-align: right;\">\n",
       "      <th></th>\n",
       "      <th>phone</th>\n",
       "      <th>cost_for_two</th>\n",
       "      <th>online_order_no</th>\n",
       "      <th>online_order_yes</th>\n",
       "      <th>book_table_no</th>\n",
       "      <th>book_table_yes</th>\n",
       "      <th>listed_in_type_buffet</th>\n",
       "      <th>listed_in_type_cafes</th>\n",
       "      <th>listed_in_type_delivery</th>\n",
       "      <th>listed_in_type_desserts</th>\n",
       "      <th>...</th>\n",
       "      <th>cuisines_1_jewish</th>\n",
       "      <th>cuisines_2_jewish</th>\n",
       "      <th>cuisines_1_vegan</th>\n",
       "      <th>cuisines_2_vegan</th>\n",
       "      <th>cuisines_1_rawmeats</th>\n",
       "      <th>cuisines_2_rawmeats</th>\n",
       "      <th>cuisines_1_malwani</th>\n",
       "      <th>cuisines_2_malwani</th>\n",
       "      <th>cuisines_1_sindhi</th>\n",
       "      <th>cuisines_2_sindhi</th>\n",
       "    </tr>\n",
       "  </thead>\n",
       "  <tbody>\n",
       "    <tr>\n",
       "      <th>48206</th>\n",
       "      <td>0.0</td>\n",
       "      <td>0.127517</td>\n",
       "      <td>0</td>\n",
       "      <td>1</td>\n",
       "      <td>1</td>\n",
       "      <td>0</td>\n",
       "      <td>0</td>\n",
       "      <td>0</td>\n",
       "      <td>0</td>\n",
       "      <td>0</td>\n",
       "      <td>...</td>\n",
       "      <td>0</td>\n",
       "      <td>0</td>\n",
       "      <td>0</td>\n",
       "      <td>0</td>\n",
       "      <td>0</td>\n",
       "      <td>0</td>\n",
       "      <td>0</td>\n",
       "      <td>0</td>\n",
       "      <td>0</td>\n",
       "      <td>0</td>\n",
       "    </tr>\n",
       "  </tbody>\n",
       "</table>\n",
       "<p>1 rows × 307 columns</p>\n",
       "</div>"
      ],
      "text/plain": [
       "       phone  cost_for_two  online_order_no  online_order_yes  book_table_no  \\\n",
       "48206    0.0      0.127517                0                 1              1   \n",
       "\n",
       "       book_table_yes  listed_in_type_buffet  listed_in_type_cafes  \\\n",
       "48206               0                      0                     0   \n",
       "\n",
       "       listed_in_type_delivery  listed_in_type_desserts  ...  \\\n",
       "48206                        0                        0  ...   \n",
       "\n",
       "       cuisines_1_jewish  cuisines_2_jewish  cuisines_1_vegan  \\\n",
       "48206                  0                  0                 0   \n",
       "\n",
       "       cuisines_2_vegan  cuisines_1_rawmeats  cuisines_2_rawmeats  \\\n",
       "48206                 0                    0                    0   \n",
       "\n",
       "       cuisines_1_malwani  cuisines_2_malwani  cuisines_1_sindhi  \\\n",
       "48206                   0                   0                  0   \n",
       "\n",
       "       cuisines_2_sindhi  \n",
       "48206                  0  \n",
       "\n",
       "[1 rows x 307 columns]"
      ]
     },
     "execution_count": 142,
     "metadata": {},
     "output_type": "execute_result"
    }
   ],
   "source": [
    "X_predict[index_:index_+1]"
   ]
  },
  {
   "cell_type": "markdown",
   "metadata": {},
   "source": [
    "VErifying signals which will be used to predict the bin"
   ]
  },
  {
   "cell_type": "code",
   "execution_count": 143,
   "metadata": {},
   "outputs": [],
   "source": [
    "X_predict_t = torch.tensor(X_predict[index_:index_+1].values).type(torch.float)"
   ]
  },
  {
   "cell_type": "code",
   "execution_count": 144,
   "metadata": {},
   "outputs": [
    {
     "data": {
      "text/plain": [
       "torch.Size([1, 307])"
      ]
     },
     "execution_count": 144,
     "metadata": {},
     "output_type": "execute_result"
    }
   ],
   "source": [
    "X_predict_t.shape"
   ]
  },
  {
   "cell_type": "markdown",
   "metadata": {},
   "source": [
    "### Predicting for selected restaurant index"
   ]
  },
  {
   "cell_type": "code",
   "execution_count": 145,
   "metadata": {},
   "outputs": [
    {
     "name": "stdout",
     "output_type": "stream",
     "text": [
      "The Top 3 Classes for the restaurant below with probabilities are:\n"
     ]
    },
    {
     "data": {
      "text/html": [
       "<div>\n",
       "<style scoped>\n",
       "    .dataframe tbody tr th:only-of-type {\n",
       "        vertical-align: middle;\n",
       "    }\n",
       "\n",
       "    .dataframe tbody tr th {\n",
       "        vertical-align: top;\n",
       "    }\n",
       "\n",
       "    .dataframe thead th {\n",
       "        text-align: right;\n",
       "    }\n",
       "</style>\n",
       "<table border=\"1\" class=\"dataframe\">\n",
       "  <thead>\n",
       "    <tr style=\"text-align: right;\">\n",
       "      <th></th>\n",
       "      <th>online_order</th>\n",
       "      <th>book_table</th>\n",
       "      <th>rate</th>\n",
       "      <th>phone</th>\n",
       "      <th>location</th>\n",
       "      <th>rest_type</th>\n",
       "      <th>cuisines</th>\n",
       "      <th>cost_for_two</th>\n",
       "      <th>listed_in_type</th>\n",
       "      <th>listed_in_city</th>\n",
       "    </tr>\n",
       "  </thead>\n",
       "  <tbody>\n",
       "    <tr>\n",
       "      <th>48206</th>\n",
       "      <td>Yes</td>\n",
       "      <td>No</td>\n",
       "      <td>NEW</td>\n",
       "      <td>+91 8043774001</td>\n",
       "      <td>MG Road</td>\n",
       "      <td>Casual Dining</td>\n",
       "      <td>Biryani, Chinese, North Indian, South Indian</td>\n",
       "      <td>800</td>\n",
       "      <td>Dine-out</td>\n",
       "      <td>Residency Road</td>\n",
       "    </tr>\n",
       "  </tbody>\n",
       "</table>\n",
       "</div>"
      ],
      "text/plain": [
       "      online_order book_table rate           phone location      rest_type  \\\n",
       "48206          Yes         No  NEW  +91 8043774001  MG Road  Casual Dining   \n",
       "\n",
       "                                           cuisines cost_for_two  \\\n",
       "48206  Biryani, Chinese, North Indian, South Indian          800   \n",
       "\n",
       "      listed_in_type  listed_in_city  \n",
       "48206       Dine-out  Residency Road  "
      ]
     },
     "metadata": {},
     "output_type": "display_data"
    },
    {
     "data": {
      "image/png": "[encoded data removed]",
      "text/plain": [
       "<Figure size 432x288 with 1 Axes>"
      ]
     },
     "metadata": {},
     "output_type": "display_data"
    }
   ],
   "source": [
    "print(\"The Top 3 Classes for the restaurant below with probabilities are:\")\n",
    "display(bengaluru_res_df_new[index_:index_+1])\n",
    "pr.predict(model,X_predict_t)"
   ]
  },
  {
   "cell_type": "markdown",
   "metadata": {},
   "source": [
    "<a id =\"lim\"></a>\n",
    "## 7. Limitation and  Conclusion"
   ]
  },
  {
   "cell_type": "markdown",
   "metadata": {},
   "source": [
    "**Limitaions:**<br>\n",
    "- The model can predict scores only for the REstaurants provided in csv and have rate value as \"NEW\"\n",
    "- Assuming that missing numbers as count 0 i.e no phone number provided for restaurant\n",
    "- 346 restaurants hav  cost for two missing which is replaced by median\n",
    "- The model is only limited to predict Bengaluru Data\n",
    "- Due to computation time only two columns were prepared from cuisines to store first two in \"cuisine_type1\" and cuisine_type2\" respectively. There are restaurants with cuisines types upto 8.\n",
    "\n",
    "**conclusion**\n",
    "- The model is able to predict with 76% of accuracy  the colored bin the New restaurnt will fall into\n",
    "- only 12.7% of restaurants have book table options in Bengaluru\n",
    "- Only 23% of restaurants have ratings between 4-5.\n",
    "\n",
    "\n",
    "**Improvement**\n",
    "- User interface can be made which takes inputs for a new restuaunts\n",
    "- Neural network can undergo pruning to remove unwanted excess nodes\n",
    "- creating more columns for cuisine types to separate the comma separated cuisines\n",
    "- XGBoost and other algorithms can be used to check if it performs better than NN\n",
    "\n"
   ]
  }
 ],
 "metadata": {
  "kernelspec": {
   "display_name": "Python 3",
   "language": "python",
   "name": "python3"
  },
  "language_info": {
   "codemirror_mode": {
    "name": "ipython",
    "version": 3
   },
   "file_extension": ".py",
   "mimetype": "text/x-python",
   "name": "python",
   "nbconvert_exporter": "python",
   "pygments_lexer": "ipython3",
   "version": "3.6.8"
  }
 },
 "nbformat": 4,
 "nbformat_minor": 2
}
